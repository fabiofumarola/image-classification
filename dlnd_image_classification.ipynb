{
 "cells": [
  {
   "cell_type": "markdown",
   "metadata": {
    "collapsed": true
   },
   "source": [
    "# Image Classification\n",
    "In this project, you'll classify images from the [CIFAR-10 dataset](https://www.cs.toronto.edu/~kriz/cifar.html).  The dataset consists of airplanes, dogs, cats, and other objects. You'll preprocess the images, then train a convolutional neural network on all the samples. The images need to be normalized and the labels need to be one-hot encoded.  You'll get to apply what you learned and build a convolutional, max pooling, dropout, and fully connected layers.  At the end, you'll get to see your neural network's predictions on the sample images.\n",
    "## Get the Data\n",
    "Run the following cell to download the [CIFAR-10 dataset for python](https://www.cs.toronto.edu/~kriz/cifar-10-python.tar.gz)."
   ]
  },
  {
   "cell_type": "code",
   "execution_count": 1,
   "metadata": {
    "collapsed": false
   },
   "outputs": [
    {
     "name": "stdout",
     "output_type": "stream",
     "text": [
      "All files found!\n"
     ]
    }
   ],
   "source": [
    "\"\"\"\n",
    "DON'T MODIFY ANYTHING IN THIS CELL THAT IS BELOW THIS LINE\n",
    "\"\"\"\n",
    "from urllib.request import urlretrieve\n",
    "from os.path import isfile, isdir\n",
    "from tqdm import tqdm\n",
    "import problem_unittests as tests\n",
    "import tarfile\n",
    "\n",
    "cifar10_dataset_folder_path = 'cifar-10-batches-py'\n",
    "\n",
    "class DLProgress(tqdm):\n",
    "    last_block = 0\n",
    "\n",
    "    def hook(self, block_num=1, block_size=1, total_size=None):\n",
    "        self.total = total_size\n",
    "        self.update((block_num - self.last_block) * block_size)\n",
    "        self.last_block = block_num\n",
    "\n",
    "if not isfile('cifar-10-python.tar.gz'):\n",
    "    with DLProgress(unit='B', unit_scale=True, miniters=1, desc='CIFAR-10 Dataset') as pbar:\n",
    "        urlretrieve(\n",
    "            'https://www.cs.toronto.edu/~kriz/cifar-10-python.tar.gz',\n",
    "            'cifar-10-python.tar.gz',\n",
    "            pbar.hook)\n",
    "\n",
    "if not isdir(cifar10_dataset_folder_path):\n",
    "    with tarfile.open('cifar-10-python.tar.gz') as tar:\n",
    "        tar.extractall()\n",
    "        tar.close()\n",
    "\n",
    "\n",
    "tests.test_folder_path(cifar10_dataset_folder_path)"
   ]
  },
  {
   "cell_type": "markdown",
   "metadata": {},
   "source": [
    "## Explore the Data\n",
    "The dataset is broken into batches to prevent your machine from running out of memory.  The CIFAR-10 dataset consists of 5 batches, named `data_batch_1`, `data_batch_2`, etc.. Each batch contains the labels and images that are one of the following:\n",
    "* airplane\n",
    "* automobile\n",
    "* bird\n",
    "* cat\n",
    "* deer\n",
    "* dog\n",
    "* frog\n",
    "* horse\n",
    "* ship\n",
    "* truck\n",
    "\n",
    "Understanding a dataset is part of making predictions on the data.  Play around with the code cell below by changing the `batch_id` and `sample_id`. The `batch_id` is the id for a batch (1-5). The `sample_id` is the id for a image and label pair in the batch.\n",
    "\n",
    "Ask yourself \"What are all possible labels?\", \"What is the range of values for the image data?\", \"Are the labels in order or random?\".  Answers to questions like these will help you preprocess the data and end up with better predictions."
   ]
  },
  {
   "cell_type": "code",
   "execution_count": 2,
   "metadata": {
    "collapsed": false
   },
   "outputs": [
    {
     "name": "stdout",
     "output_type": "stream",
     "text": [
      "\n",
      "Stats of batch 4:\n",
      "Samples: 10000\n",
      "Label Counts: {0: 1003, 1: 963, 2: 1041, 3: 976, 4: 1004, 5: 1021, 6: 1004, 7: 981, 8: 1024, 9: 983}\n",
      "First 20 Labels: [0, 6, 0, 2, 7, 2, 1, 2, 4, 1, 5, 6, 6, 3, 1, 3, 5, 5, 8, 1]\n",
      "\n",
      "Example of Image 22:\n",
      "Image - Min Value: 0 Max Value: 255\n",
      "Image - Shape: (32, 32, 3)\n",
      "Label - Label Id: 3 Name: cat\n"
     ]
    },
    {
     "data": {
      "image/png": "[encoded data removed]",
      "text/plain": [
       "<matplotlib.figure.Figure at 0x7fdf202604e0>"
      ]
     },
     "metadata": {
      "image/png": {
       "height": 250,
       "width": 253
      }
     },
     "output_type": "display_data"
    }
   ],
   "source": [
    "%matplotlib inline\n",
    "%config InlineBackend.figure_format = 'retina'\n",
    "\n",
    "import helper\n",
    "import numpy as np\n",
    "\n",
    "# Explore the dataset\n",
    "batch_id = 4\n",
    "sample_id = 22\n",
    "helper.display_stats(cifar10_dataset_folder_path, batch_id, sample_id)"
   ]
  },
  {
   "cell_type": "markdown",
   "metadata": {},
   "source": [
    "## Implement Preprocess Functions\n",
    "### Normalize\n",
    "In the cell below, implement the `normalize` function to take in image data, `x`, and return it as a normalized Numpy array. The values should be in the range of 0 to 1, inclusive.  The return object should be the same shape as `x`."
   ]
  },
  {
   "cell_type": "code",
   "execution_count": 3,
   "metadata": {
    "collapsed": false
   },
   "outputs": [
    {
     "name": "stdout",
     "output_type": "stream",
     "text": [
      "Tests Passed\n"
     ]
    }
   ],
   "source": [
    "def normalize(x):\n",
    "    \"\"\"\n",
    "    Normalize a list of sample image data in the range of 0 to 1\n",
    "    : x: List of image data.  The image shape is (32, 32, 3)\n",
    "    : return: Numpy array of normalize data\n",
    "    \"\"\"\n",
    "    # TODO: Implement Function\n",
    "    return x * 1 / 255\n",
    "\n",
    "\n",
    "\"\"\"\n",
    "DON'T MODIFY ANYTHING IN THIS CELL THAT IS BELOW THIS LINE\n",
    "\"\"\"\n",
    "tests.test_normalize(normalize)"
   ]
  },
  {
   "cell_type": "markdown",
   "metadata": {},
   "source": [
    "### One-hot encode\n",
    "Just like the previous code cell, you'll be implementing a function for preprocessing.  This time, you'll implement the `one_hot_encode` function. The input, `x`, are a list of labels.  Implement the function to return the list of labels as One-Hot encoded Numpy array.  The possible values for labels are 0 to 9. The one-hot encoding function should return the same encoding for each value between each call to `one_hot_encode`.  Make sure to save the map of encodings outside the function.\n",
    "\n",
    "Hint: Don't reinvent the wheel."
   ]
  },
  {
   "cell_type": "code",
   "execution_count": 4,
   "metadata": {
    "collapsed": false
   },
   "outputs": [
    {
     "name": "stdout",
     "output_type": "stream",
     "text": [
      "Tests Passed\n"
     ]
    }
   ],
   "source": [
    "encoding_dict = dict(enumerate(range(10)))\n",
    "\n",
    "def one_hot_encode(x):\n",
    "    \"\"\"\n",
    "    One hot encode a list of sample labels. Return a one-hot encoded vector for each label.\n",
    "    : x: List of sample Labels\n",
    "    : return: Numpy array of one-hot encoded labels\n",
    "    \"\"\"\n",
    "    one_hot_array = np.zeros((len(x),10))\n",
    "    for i in range(len(x)):\n",
    "        one_hot_array[i,encoding_dict[x[i]]] = 1\n",
    "\n",
    "    return one_hot_array\n",
    "\n",
    "\n",
    "\"\"\"\n",
    "DON'T MODIFY ANYTHING IN THIS CELL THAT IS BELOW THIS LINE\n",
    "\"\"\"\n",
    "tests.test_one_hot_encode(one_hot_encode)"
   ]
  },
  {
   "cell_type": "markdown",
   "metadata": {},
   "source": [
    "### Randomize Data\n",
    "As you saw from exploring the data above, the order of the samples are randomized.  It doesn't hurt to randomize it again, but you don't need to for this dataset."
   ]
  },
  {
   "cell_type": "markdown",
   "metadata": {},
   "source": [
    "## Preprocess all the data and save it\n",
    "Running the code cell below will preprocess all the CIFAR-10 data and save it to file. The code below also uses 10% of the training data for validation."
   ]
  },
  {
   "cell_type": "code",
   "execution_count": 5,
   "metadata": {
    "collapsed": false
   },
   "outputs": [],
   "source": [
    "\"\"\"\n",
    "DON'T MODIFY ANYTHING IN THIS CELL\n",
    "\"\"\"\n",
    "# Preprocess Training, Validation, and Testing Data\n",
    "helper.preprocess_and_save_data(cifar10_dataset_folder_path, normalize, one_hot_encode)"
   ]
  },
  {
   "cell_type": "markdown",
   "metadata": {},
   "source": [
    "# Check Point\n",
    "This is your first checkpoint.  If you ever decide to come back to this notebook or have to restart the notebook, you can start from here.  The preprocessed data has been saved to disk."
   ]
  },
  {
   "cell_type": "code",
   "execution_count": 6,
   "metadata": {
    "collapsed": true
   },
   "outputs": [],
   "source": [
    "\"\"\"\n",
    "DON'T MODIFY ANYTHING IN THIS CELL\n",
    "\"\"\"\n",
    "import pickle\n",
    "import problem_unittests as tests\n",
    "import helper\n",
    "\n",
    "# Load the Preprocessed Validation data\n",
    "valid_features, valid_labels = pickle.load(open('preprocess_validation.p', mode='rb'))"
   ]
  },
  {
   "cell_type": "code",
   "execution_count": 7,
   "metadata": {
    "collapsed": true
   },
   "outputs": [],
   "source": [
    "import pickle\n",
    "import numpy as np\n",
    "import matplotlib.pyplot as plt\n",
    "from sklearn.preprocessing import LabelBinarizer"
   ]
  },
  {
   "cell_type": "code",
   "execution_count": 8,
   "metadata": {
    "collapsed": false
   },
   "outputs": [
    {
     "name": "stdout",
     "output_type": "stream",
     "text": [
      "6\n"
     ]
    },
    {
     "data": {
      "image/png": "[encoded data removed]",
      "text/plain": [
       "<matplotlib.figure.Figure at 0x7fdf1ca076a0>"
      ]
     },
     "metadata": {
      "image/png": {
       "height": 250,
       "width": 253
      }
     },
     "output_type": "display_data"
    }
   ],
   "source": [
    "i = 200\n",
    "plt.axis('off')\n",
    "plt.imshow(valid_features[i])\n",
    "print(valid_labels[i].nonzero()[0][0])"
   ]
  },
  {
   "cell_type": "markdown",
   "metadata": {},
   "source": [
    "## Build the network\n",
    "For the neural network, you'll build each layer into a function.  Most of the code you've seen has been outside of functions. To test your code more thoroughly, we require that you put each layer in a function.  This allows us to give you better feedback and test for simple mistakes using our unittests before you submit your project.\n",
    "\n",
    ">**Note:** If you're finding it hard to dedicate enough time for this course each week, we've provided a small shortcut to this part of the project. In the next couple of problems, you'll have the option to use classes from the [TensorFlow Layers](https://www.tensorflow.org/api_docs/python/tf/layers) or [TensorFlow Layers (contrib)](https://www.tensorflow.org/api_guides/python/contrib.layers) packages to build each layer, except the layers you build in the \"Convolutional and Max Pooling Layer\" section.  TF Layers is similar to Keras's and TFLearn's abstraction to layers, so it's easy to pickup.\n",
    "\n",
    ">However, if you would like to get the most out of this course, try to solve all the problems _without_ using anything from the TF Layers packages. You **can** still use classes from other packages that happen to have the same name as ones you find in TF Layers! For example, instead of using the TF Layers version of the `conv2d` class, [tf.layers.conv2d](https://www.tensorflow.org/api_docs/python/tf/layers/conv2d), you would want to use the TF Neural Network version of `conv2d`, [tf.nn.conv2d](https://www.tensorflow.org/api_docs/python/tf/nn/conv2d). \n",
    "\n",
    "Let's begin!\n",
    "\n",
    "### Input\n",
    "The neural network needs to read the image data, one-hot encoded labels, and dropout keep probability. Implement the following functions\n",
    "* Implement `neural_net_image_input`\n",
    " * Return a [TF Placeholder](https://www.tensorflow.org/api_docs/python/tf/placeholder)\n",
    " * Set the shape using `image_shape` with batch size set to `None`.\n",
    " * Name the TensorFlow placeholder \"x\" using the TensorFlow `name` parameter in the [TF Placeholder](https://www.tensorflow.org/api_docs/python/tf/placeholder).\n",
    "* Implement `neural_net_label_input`\n",
    " * Return a [TF Placeholder](https://www.tensorflow.org/api_docs/python/tf/placeholder)\n",
    " * Set the shape using `n_classes` with batch size set to `None`.\n",
    " * Name the TensorFlow placeholder \"y\" using the TensorFlow `name` parameter in the [TF Placeholder](https://www.tensorflow.org/api_docs/python/tf/placeholder).\n",
    "* Implement `neural_net_keep_prob_input`\n",
    " * Return a [TF Placeholder](https://www.tensorflow.org/api_docs/python/tf/placeholder) for dropout keep probability.\n",
    " * Name the TensorFlow placeholder \"keep_prob\" using the TensorFlow `name` parameter in the [TF Placeholder](https://www.tensorflow.org/api_docs/python/tf/placeholder).\n",
    "\n",
    "These names will be used at the end of the project to load your saved model.\n",
    "\n",
    "Note: `None` for shapes in TensorFlow allow for a dynamic size."
   ]
  },
  {
   "cell_type": "code",
   "execution_count": 9,
   "metadata": {
    "collapsed": false
   },
   "outputs": [
    {
     "name": "stdout",
     "output_type": "stream",
     "text": [
      "Image Input Tests Passed.\n",
      "Label Input Tests Passed.\n",
      "Keep Prob Tests Passed.\n"
     ]
    }
   ],
   "source": [
    "import tensorflow as tf\n",
    "\n",
    "def neural_net_image_input(image_shape):\n",
    "    \"\"\"\n",
    "    Return a Tensor for a bach of image input\n",
    "    : image_shape: Shape of the images\n",
    "    : return: Tensor for image input.\n",
    "    \"\"\"\n",
    "    new_shape = (None,) + image_shape\n",
    "    # TODO: Implement Function\n",
    "    return tf.placeholder(tf.float32,shape=new_shape, name='x')\n",
    "\n",
    "\n",
    "def neural_net_label_input(n_classes):\n",
    "    \"\"\"\n",
    "    Return a Tensor for a batch of label input\n",
    "    : n_classes: Number of classes\n",
    "    : return: Tensor for label input.\n",
    "    \"\"\"\n",
    "    # TODO: Implement Function\n",
    "    return tf.placeholder(tf.int8, shape=(None,n_classes), name='y')\n",
    "\n",
    "\n",
    "def neural_net_keep_prob_input():\n",
    "    \"\"\"\n",
    "    Return a Tensor for keep probability\n",
    "    : return: Tensor for keep probability.\n",
    "    \"\"\"\n",
    "    # TODO: Implement Function\n",
    "    return tf.placeholder(tf.float32, name = 'keep_prob')\n",
    "\n",
    "\n",
    "\"\"\"\n",
    "DON'T MODIFY ANYTHING IN THIS CELL THAT IS BELOW THIS LINE\n",
    "\"\"\"\n",
    "tf.reset_default_graph()\n",
    "tests.test_nn_image_inputs(neural_net_image_input)\n",
    "tests.test_nn_label_inputs(neural_net_label_input)\n",
    "tests.test_nn_keep_prob_inputs(neural_net_keep_prob_input)"
   ]
  },
  {
   "cell_type": "markdown",
   "metadata": {},
   "source": [
    "### Convolution and Max Pooling Layer\n",
    "Convolution layers have a lot of success with images. For this code cell, you should implement the function `conv2d_maxpool` to apply convolution then max pooling:\n",
    "* Create the weight and bias using `conv_ksize`, `conv_num_outputs` and the shape of `x_tensor`.\n",
    "* Apply a convolution to `x_tensor` using weight and `conv_strides`.\n",
    " * We recommend you use same padding, but you're welcome to use any padding.\n",
    "* Add bias\n",
    "* Add a nonlinear activation to the convolution.\n",
    "* Apply Max Pooling using `pool_ksize` and `pool_strides`.\n",
    " * We recommend you use same padding, but you're welcome to use any padding.\n",
    "\n",
    "**Note:** You **can't** use [TensorFlow Layers](https://www.tensorflow.org/api_docs/python/tf/layers) or [TensorFlow Layers (contrib)](https://www.tensorflow.org/api_guides/python/contrib.layers) for **this** layer, but you can still use TensorFlow's [Neural Network](https://www.tensorflow.org/api_docs/python/tf/nn) package. You may still use the shortcut option for all the **other** layers."
   ]
  },
  {
   "cell_type": "code",
   "execution_count": 10,
   "metadata": {
    "collapsed": false
   },
   "outputs": [
    {
     "name": "stdout",
     "output_type": "stream",
     "text": [
      "added a conv layer  Tensor(\"Conv2D:0\", shape=(?, 8, 8, 10), dtype=float32)\n",
      "added max pooling  Tensor(\"MaxPool:0\", shape=(?, 4, 4, 10), dtype=float32)\n",
      "Tests Passed\n"
     ]
    }
   ],
   "source": [
    "def conv2d_maxpool(x_tensor, conv_num_outputs, conv_ksize, conv_strides, pool_ksize, pool_strides):\n",
    "    \"\"\"\n",
    "    Apply convolution then max pooling to x_tensor\n",
    "    :param x_tensor: TensorFlow Tensor\n",
    "    :param conv_num_outputs: Number of outputs for the convolutional layer\n",
    "    :param conv_ksize: kernal size 2-D Tuple for the convolutional layer\n",
    "    :param conv_strides: Stride 2-D Tuple for convolution\n",
    "    :param pool_ksize: kernal size 2-D Tuple for pool\n",
    "    :param pool_strides: Stride 2-D Tuple for pool\n",
    "    : return: A tensor that represents convolution and max pooling of x_tensor\n",
    "    \"\"\"  \n",
    "    weights = tf.Variable(tf.truncated_normal(\n",
    "        shape = [*conv_ksize, int(x_tensor.get_shape().dims[3]), conv_num_outputs],\n",
    "        stddev=0.04,\n",
    "        dtype=tf.float32))\n",
    "    bias = tf.Variable(tf.zeros(conv_num_outputs))\n",
    " \n",
    "    conv_layer = tf.nn.conv2d(x_tensor, weights, strides=[1, *conv_strides, 1], padding='SAME')\n",
    "    print('added a conv layer ', conv_layer)\n",
    "    conv_layer = tf.nn.bias_add(conv_layer, bias)\n",
    "    conv_layer = tf.nn.relu(conv_layer)\n",
    " \n",
    "    conv_layer = tf.nn.max_pool(conv_layer, ksize=[1, *pool_ksize, 1], strides=[1, *pool_strides, 1], padding='SAME')\n",
    "    print('added max pooling ', conv_layer)\n",
    "    return conv_layer \n",
    "\n",
    "\n",
    "\"\"\"\n",
    "DON'T MODIFY ANYTHING IN THIS CELL THAT IS BELOW THIS LINE\n",
    "\"\"\"\n",
    "tests.test_con_pool(conv2d_maxpool)"
   ]
  },
  {
   "cell_type": "markdown",
   "metadata": {},
   "source": [
    "### Flatten Layer\n",
    "Implement the `flatten` function to change the dimension of `x_tensor` from a 4-D tensor to a 2-D tensor.  The output should be the shape (*Batch Size*, *Flattened Image Size*). Shortcut option: you can use classes from the [TensorFlow Layers](https://www.tensorflow.org/api_docs/python/tf/layers) or [TensorFlow Layers (contrib)](https://www.tensorflow.org/api_guides/python/contrib.layers) packages for this layer. For more of a challenge, only use other TensorFlow packages."
   ]
  },
  {
   "cell_type": "code",
   "execution_count": 11,
   "metadata": {
    "collapsed": false
   },
   "outputs": [
    {
     "name": "stdout",
     "output_type": "stream",
     "text": [
      "added flatten  Tensor(\"flatten:0\", shape=(?, 1800), dtype=float32)\n",
      "Tests Passed\n"
     ]
    }
   ],
   "source": [
    "def flatten(x_tensor):\n",
    "    \"\"\"\n",
    "    Flatten x_tensor to (Batch Size, Flattened Image Size)\n",
    "    : x_tensor: A tensor of size (Batch Size, ...), where ... are the image dimensions.\n",
    "    : return: A tensor of size (Batch Size, Flattened Image Size).\n",
    "    \"\"\"\n",
    "    to_flatten = x_tensor.get_shape().as_list()[1:]\n",
    "    flat =  tf.reshape(x_tensor, [-1, np.prod(to_flatten)], name='flatten')\n",
    "    print('added flatten ', flat)\n",
    "    return flat\n",
    "\n",
    "\n",
    "\"\"\"\n",
    "DON'T MODIFY ANYTHING IN THIS CELL THAT IS BELOW THIS LINE\n",
    "\"\"\"\n",
    "tests.test_flatten(flatten)"
   ]
  },
  {
   "cell_type": "markdown",
   "metadata": {},
   "source": [
    "### Fully-Connected Layer\n",
    "Implement the `fully_conn` function to apply a fully connected layer to `x_tensor` with the shape (*Batch Size*, *num_outputs*). Shortcut option: you can use classes from the [TensorFlow Layers](https://www.tensorflow.org/api_docs/python/tf/layers) or [TensorFlow Layers (contrib)](https://www.tensorflow.org/api_guides/python/contrib.layers) packages for this layer. For more of a challenge, only use other TensorFlow packages."
   ]
  },
  {
   "cell_type": "code",
   "execution_count": 12,
   "metadata": {
    "collapsed": false
   },
   "outputs": [
    {
     "name": "stdout",
     "output_type": "stream",
     "text": [
      "added fully connected  Tensor(\"fully_conn:0\", shape=(?, 40), dtype=float32)\n",
      "Tests Passed\n"
     ]
    }
   ],
   "source": [
    "def fully_conn(x_tensor, num_outputs):\n",
    "    \"\"\"\n",
    "    Apply a fully connected layer to x_tensor using weight and bias\n",
    "    : x_tensor: A 2-D tensor where the first dimension is batch size.\n",
    "    : num_outputs: The number of output that the new tensor should be.\n",
    "    : return: A 2-D tensor where the second dimension is num_outputs.\n",
    "    \"\"\"\n",
    "    shape = ((x_tensor.get_shape().as_list()[1], num_outputs))\n",
    "    weights = tf.Variable(tf.truncated_normal(shape=shape, dtype=tf.float32, stddev=0.04))\n",
    "    bias = tf.Variable(tf.zeros(shape=[num_outputs]),dtype=tf.float32)\n",
    "    layer = tf.add(tf.matmul(x_tensor, weights), bias, name='fully_conn')\n",
    "    print('added fully connected ', layer)\n",
    "    return tf.nn.relu(layer)\n",
    "\n",
    "\"\"\"\n",
    "DON'T MODIFY ANYTHING IN THIS CELL THAT IS BELOW THIS LINE\n",
    "\"\"\"\n",
    "tests.test_fully_conn(fully_conn)"
   ]
  },
  {
   "cell_type": "markdown",
   "metadata": {},
   "source": [
    "### Output Layer\n",
    "Implement the `output` function to apply a fully connected layer to `x_tensor` with the shape (*Batch Size*, *num_outputs*). Shortcut option: you can use classes from the [TensorFlow Layers](https://www.tensorflow.org/api_docs/python/tf/layers) or [TensorFlow Layers (contrib)](https://www.tensorflow.org/api_guides/python/contrib.layers) packages for this layer. For more of a challenge, only use other TensorFlow packages.\n",
    "\n",
    "**Note:** Activation, softmax, or cross entropy should **not** be applied to this."
   ]
  },
  {
   "cell_type": "code",
   "execution_count": 13,
   "metadata": {
    "collapsed": false
   },
   "outputs": [
    {
     "name": "stdout",
     "output_type": "stream",
     "text": [
      "added ouput layer Tensor(\"output:0\", shape=(?, 40), dtype=float32)\n",
      "Tests Passed\n"
     ]
    }
   ],
   "source": [
    "def output(x_tensor, num_outputs):\n",
    "    \"\"\"\n",
    "    Apply a output layer to x_tensor using weight and bias\n",
    "    : x_tensor: A 2-D tensor where the first dimension is batch size.\n",
    "    : num_outputs: The number of output that the new tensor should be.\n",
    "    : return: A 2-D tensor where the second dimension is num_outputs.\n",
    "    \"\"\"\n",
    "    shape = ((x_tensor.get_shape().as_list()[1], num_outputs))\n",
    "    weights = tf.Variable(tf.truncated_normal(shape=shape, dtype=tf.float32, stddev=0.04))\n",
    "    bias = tf.Variable(tf.zeros(shape=[num_outputs]),dtype=tf.float32)\n",
    "    model =  tf.add(tf.matmul(x_tensor, weights), bias, name='output')\n",
    "    print('added ouput layer', model)\n",
    "    return model\n",
    "\n",
    "\n",
    "\"\"\"\n",
    "DON'T MODIFY ANYTHING IN THIS CELL THAT IS BELOW THIS LINE\n",
    "\"\"\"\n",
    "tests.test_output(output)"
   ]
  },
  {
   "cell_type": "markdown",
   "metadata": {},
   "source": [
    "### Create Convolutional Model\n",
    "Implement the function `conv_net` to create a convolutional neural network model. The function takes in a batch of images, `x`, and outputs logits.  Use the layers you created above to create this model:\n",
    "\n",
    "* Apply 1, 2, or 3 Convolution and Max Pool layers\n",
    "* Apply a Flatten Layer\n",
    "* Apply 1, 2, or 3 Fully Connected Layers\n",
    "* Apply an Output Layer\n",
    "* Return the output\n",
    "* Apply [TensorFlow's Dropout](https://www.tensorflow.org/api_docs/python/tf/nn/dropout) to one or more layers in the model using `keep_prob`. "
   ]
  },
  {
   "cell_type": "code",
   "execution_count": 14,
   "metadata": {
    "collapsed": false
   },
   "outputs": [
    {
     "name": "stdout",
     "output_type": "stream",
     "text": [
      "added a conv layer  Tensor(\"Conv2D:0\", shape=(?, 16, 16, 64), dtype=float32)\n",
      "added max pooling  Tensor(\"MaxPool:0\", shape=(?, 16, 16, 64), dtype=float32)\n",
      "added a conv layer  Tensor(\"Conv2D_1:0\", shape=(?, 8, 8, 128), dtype=float32)\n",
      "added max pooling  Tensor(\"MaxPool_1:0\", shape=(?, 8, 8, 128), dtype=float32)\n",
      "added a conv layer  Tensor(\"Conv2D_2:0\", shape=(?, 4, 4, 256), dtype=float32)\n",
      "added max pooling  Tensor(\"MaxPool_2:0\", shape=(?, 4, 4, 256), dtype=float32)\n",
      "added a conv layer  Tensor(\"Conv2D_3:0\", shape=(?, 2, 2, 512), dtype=float32)\n",
      "added max pooling  Tensor(\"MaxPool_3:0\", shape=(?, 2, 2, 512), dtype=float32)\n",
      "added flatten  Tensor(\"flatten:0\", shape=(?, 2048), dtype=float32)\n",
      "added fully connected  Tensor(\"fully_conn:0\", shape=(?, 128), dtype=float32)\n",
      "added fully connected  Tensor(\"fully_conn_1:0\", shape=(?, 64), dtype=float32)\n",
      "added fully connected  Tensor(\"fully_conn_2:0\", shape=(?, 32), dtype=float32)\n",
      "added ouput layer Tensor(\"output:0\", shape=(?, 10), dtype=float32)\n",
      "added a conv layer  Tensor(\"Conv2D_4:0\", shape=(?, 16, 16, 64), dtype=float32)\n",
      "added max pooling  Tensor(\"MaxPool_4:0\", shape=(?, 16, 16, 64), dtype=float32)\n",
      "added a conv layer  Tensor(\"Conv2D_5:0\", shape=(?, 8, 8, 128), dtype=float32)\n",
      "added max pooling  Tensor(\"MaxPool_5:0\", shape=(?, 8, 8, 128), dtype=float32)\n",
      "added a conv layer  Tensor(\"Conv2D_6:0\", shape=(?, 4, 4, 256), dtype=float32)\n",
      "added max pooling  Tensor(\"MaxPool_6:0\", shape=(?, 4, 4, 256), dtype=float32)\n",
      "added a conv layer  Tensor(\"Conv2D_7:0\", shape=(?, 2, 2, 512), dtype=float32)\n",
      "added max pooling  Tensor(\"MaxPool_7:0\", shape=(?, 2, 2, 512), dtype=float32)\n",
      "added flatten  Tensor(\"flatten_1:0\", shape=(?, 2048), dtype=float32)\n",
      "added fully connected  Tensor(\"fully_conn_3:0\", shape=(?, 128), dtype=float32)\n",
      "added fully connected  Tensor(\"fully_conn_4:0\", shape=(?, 64), dtype=float32)\n",
      "added fully connected  Tensor(\"fully_conn_5:0\", shape=(?, 32), dtype=float32)\n",
      "added ouput layer Tensor(\"output_1:0\", shape=(?, 10), dtype=float32)\n",
      "Neural Network Built!\n"
     ]
    }
   ],
   "source": [
    "def conv_net(x, keep_prob):\n",
    "    \"\"\"\n",
    "    Create a convolutional neural network model\n",
    "    : x: Placeholder tensor that holds image data.\n",
    "    : keep_prob: Placeholder tensor that hold dropout keep probability.\n",
    "    : return: Tensor that represents logits\n",
    "    \"\"\"\n",
    "    # TODO: Apply 1, 2, or 3 Convolution and Max Pool layers\n",
    "    #    Play around with different number of outputs, kernel size and stride\n",
    "    # Function Definition from Above:\n",
    "    #    conv2d_maxpool(x_tensor, conv_num_outputs, conv_ksize, conv_strides, pool_ksize, pool_strides)\n",
    "    conv_net = conv2d_maxpool(x, 64, (4,4), (2,2), (4,4), (1,1))\n",
    "    conv_net = tf.nn.dropout(conv_net, keep_prob=keep_prob)\n",
    "    conv_net = conv2d_maxpool(conv_net, 128, (3,3), (2,2), (2,2), (1,1))\n",
    "    conv_net = tf.nn.dropout(conv_net, keep_prob=keep_prob)\n",
    "    conv_net = conv2d_maxpool(conv_net, 256, (2,2), (2,2), (2,2), (1,1))\n",
    "    conv_net = tf.nn.dropout(conv_net, keep_prob=keep_prob)\n",
    "    conv_net = conv2d_maxpool(conv_net, 512, (2,2), (2,2), (2,2), (1,1))\n",
    "    conv_net = tf.nn.dropout(conv_net, keep_prob=keep_prob)\n",
    "\n",
    "    # TODO: Apply a Flatten Layer\n",
    "    # Function Definition from Above:\n",
    "    #   flatten(x_tensor)\n",
    "    conv_net = flatten(conv_net)\n",
    "\n",
    "    # TODO: Apply 1, 2, or 3 Fully Connected Layers\n",
    "    #    Play around with different number of outputs\n",
    "    # Function Definition from Above:\n",
    "    #   fully_conn(x_tensor, num_outputs)\n",
    "    conv_net = fully_conn(conv_net, 128)\n",
    "#     conv_net = tf.nn.dropout(conv_net, keep_prob)\n",
    "    conv_net = fully_conn(conv_net, 64)\n",
    "#     conv_net = tf.nn.dropout(conv_net, keep_prob)\n",
    "    conv_net = fully_conn(conv_net, 32)\n",
    "    \n",
    "    # TODO: Apply an Output Layer\n",
    "    #    Set this to the number of classes\n",
    "    # Function Definition from Above:\n",
    "    #   output(x_tensor, num_outputs)\n",
    "    conv_net = output(conv_net, 10)\n",
    "    \n",
    "    # TODO: return output\n",
    "    return conv_net\n",
    "\n",
    "\n",
    "\"\"\"\n",
    "DON'T MODIFY ANYTHING IN THIS CELL THAT IS BELOW THIS LINE\n",
    "\"\"\"\n",
    "\n",
    "##############################\n",
    "## Build the Neural Network ##\n",
    "##############################\n",
    "\n",
    "# Remove previous weights, bias, inputs, etc..\n",
    "tf.reset_default_graph()\n",
    "\n",
    "# Inputs\n",
    "x = neural_net_image_input((32, 32, 3))\n",
    "y = neural_net_label_input(10)\n",
    "keep_prob = neural_net_keep_prob_input()\n",
    "\n",
    "# Model\n",
    "logits = conv_net(x, keep_prob)\n",
    "\n",
    "# Name logits Tensor, so that is can be loaded from disk after training\n",
    "logits = tf.identity(logits, name='logits')\n",
    "\n",
    "# Loss and Optimizer\n",
    "cost = tf.reduce_mean(tf.nn.softmax_cross_entropy_with_logits(logits=logits, labels=y))\n",
    "optimizer = tf.train.AdamOptimizer().minimize(cost)\n",
    "\n",
    "# Accuracy\n",
    "correct_pred = tf.equal(tf.argmax(logits, 1), tf.argmax(y, 1))\n",
    "accuracy = tf.reduce_mean(tf.cast(correct_pred, tf.float32), name='accuracy')\n",
    "\n",
    "tests.test_conv_net(conv_net)"
   ]
  },
  {
   "cell_type": "markdown",
   "metadata": {},
   "source": [
    "## Train the Neural Network\n",
    "### Single Optimization\n",
    "Implement the function `train_neural_network` to do a single optimization.  The optimization should use `optimizer` to optimize in `session` with a `feed_dict` of the following:\n",
    "* `x` for image input\n",
    "* `y` for labels\n",
    "* `keep_prob` for keep probability for dropout\n",
    "\n",
    "This function will be called for each batch, so `tf.global_variables_initializer()` has already been called.\n",
    "\n",
    "Note: Nothing needs to be returned. This function is only optimizing the neural network."
   ]
  },
  {
   "cell_type": "code",
   "execution_count": 15,
   "metadata": {
    "collapsed": false
   },
   "outputs": [
    {
     "name": "stdout",
     "output_type": "stream",
     "text": [
      "Tests Passed\n"
     ]
    }
   ],
   "source": [
    "def train_neural_network(session, optimizer, keep_probability, feature_batch, label_batch):\n",
    "    \"\"\"\n",
    "    Optimize the session on a batch of images and labels\n",
    "    : session: Current TensorFlow session\n",
    "    : optimizer: TensorFlow optimizer function\n",
    "    : keep_probability: keep probability\n",
    "    : feature_batch: Batch of Numpy image data\n",
    "    : label_batch: Batch of Numpy label data\n",
    "    \"\"\"\n",
    "    session.run(optimizer, feed_dict={x: feature_batch, y: label_batch, keep_prob: keep_probability})\n",
    "\n",
    "\n",
    "\"\"\"\n",
    "DON'T MODIFY ANYTHING IN THIS CELL THAT IS BELOW THIS LINE\n",
    "\"\"\"\n",
    "tests.test_train_nn(train_neural_network)"
   ]
  },
  {
   "cell_type": "markdown",
   "metadata": {},
   "source": [
    "### Show Stats\n",
    "Implement the function `print_stats` to print loss and validation accuracy.  Use the global variables `valid_features` and `valid_labels` to calculate validation accuracy.  Use a keep probability of `1.0` to calculate the loss and validation accuracy."
   ]
  },
  {
   "cell_type": "code",
   "execution_count": 16,
   "metadata": {
    "collapsed": false
   },
   "outputs": [],
   "source": [
    "def print_stats(session, feature_batch, label_batch, cost, accuracy):\n",
    "    \"\"\"\n",
    "    Print information about loss and validation accuracy\n",
    "    : session: Current TensorFlow session\n",
    "    : feature_batch: Batch of Numpy image data\n",
    "    : label_batch: Batch of Numpy label data\n",
    "    : cost: TensorFlow cost function\n",
    "    : accuracy: TensorFlow accuracy function\n",
    "    \"\"\"\n",
    "#     train_loss, train_acc = session.run([cost, accuracy], feed_dict={x: feature_batch,\n",
    "#                                                          y: label_batch,\n",
    "#                                                          keep_prob: 1.})\n",
    "    \n",
    "    validation_loss, validation_acc = session.run([cost, accuracy], feed_dict={x: valid_features,\n",
    "                                                         y: valid_labels,\n",
    "                                                         keep_prob: 1.})\n",
    "    \n",
    "    print(\"Validation Loss= \" + \"{:.6f}\".format(validation_loss) + \", Validation Accuracy= \" + \"{:.5f}\".format(validation_acc))"
   ]
  },
  {
   "cell_type": "markdown",
   "metadata": {},
   "source": [
    "### Hyperparameters\n",
    "Tune the following parameters:\n",
    "* Set `epochs` to the number of iterations until the network stops learning or start overfitting\n",
    "* Set `batch_size` to the highest number that your machine has memory for.  Most people set them to common sizes of memory:\n",
    " * 64\n",
    " * 128\n",
    " * 256\n",
    " * ...\n",
    "* Set `keep_probability` to the probability of keeping a node using dropout"
   ]
  },
  {
   "cell_type": "code",
   "execution_count": 19,
   "metadata": {
    "collapsed": true
   },
   "outputs": [],
   "source": [
    "# TODO: Tune Parameters\n",
    "epochs = 100\n",
    "batch_size = 2048\n",
    "keep_probability = 0.5"
   ]
  },
  {
   "cell_type": "markdown",
   "metadata": {},
   "source": [
    "### Train on a Single CIFAR-10 Batch\n",
    "Instead of training the neural network on all the CIFAR-10 batches of data, let's use a single batch. This should save time while you iterate on the model to get a better accuracy.  Once the final validation accuracy is 50% or greater, run the model on all the data in the next section."
   ]
  },
  {
   "cell_type": "code",
   "execution_count": 18,
   "metadata": {
    "collapsed": false
   },
   "outputs": [
    {
     "name": "stdout",
     "output_type": "stream",
     "text": [
      "Checking the Training on a Single Batch...\n",
      "Epoch  1, CIFAR-10 Batch 1:  Validation Loss= 2.302448, Validation Accuracy= 0.10500\n",
      "Epoch  2, CIFAR-10 Batch 1:  Validation Loss= 2.300833, Validation Accuracy= 0.09900\n",
      "Epoch  3, CIFAR-10 Batch 1:  Validation Loss= 2.295721, Validation Accuracy= 0.09680\n",
      "Epoch  4, CIFAR-10 Batch 1:  Validation Loss= 2.270688, Validation Accuracy= 0.10340\n",
      "Epoch  5, CIFAR-10 Batch 1:  Validation Loss= 2.195200, Validation Accuracy= 0.19620\n",
      "Epoch  6, CIFAR-10 Batch 1:  Validation Loss= 2.173260, Validation Accuracy= 0.20820\n",
      "Epoch  7, CIFAR-10 Batch 1:  Validation Loss= 2.143104, Validation Accuracy= 0.19980\n",
      "Epoch  8, CIFAR-10 Batch 1:  Validation Loss= 2.067310, Validation Accuracy= 0.22980\n",
      "Epoch  9, CIFAR-10 Batch 1:  Validation Loss= 2.088152, Validation Accuracy= 0.18260\n",
      "Epoch 10, CIFAR-10 Batch 1:  Validation Loss= 1.981275, Validation Accuracy= 0.26640\n"
     ]
    }
   ],
   "source": [
    "\"\"\"\n",
    "DON'T MODIFY ANYTHING IN THIS CELL\n",
    "\"\"\"\n",
    "print('Checking the Training on a Single Batch...')\n",
    "with tf.Session() as sess:\n",
    "    # Initializing the variables\n",
    "    sess.run(tf.global_variables_initializer())\n",
    "    \n",
    "    # Training cycle\n",
    "    for epoch in range(epochs):\n",
    "        batch_i = 1\n",
    "        for batch_features, batch_labels in helper.load_preprocess_training_batch(batch_i, batch_size):\n",
    "            train_neural_network(sess, optimizer, keep_probability, batch_features, batch_labels)\n",
    "        print('Epoch {:>2}, CIFAR-10 Batch {}:  '.format(epoch + 1, batch_i), end='')\n",
    "        print_stats(sess, batch_features, batch_labels, cost, accuracy)"
   ]
  },
  {
   "cell_type": "markdown",
   "metadata": {},
   "source": [
    "### Fully Train the Model\n",
    "Now that you got a good accuracy with a single CIFAR-10 batch, try it with all five batches."
   ]
  },
  {
   "cell_type": "code",
   "execution_count": 20,
   "metadata": {
    "collapsed": false,
    "scrolled": false
   },
   "outputs": [
    {
     "name": "stdout",
     "output_type": "stream",
     "text": [
      "Training...\n",
      "Epoch  1, CIFAR-10 Batch 1:  Validation Loss= 2.302522, Validation Accuracy= 0.11540\n",
      "Epoch  1, CIFAR-10 Batch 2:  Validation Loss= 2.302005, Validation Accuracy= 0.10000\n",
      "Epoch  1, CIFAR-10 Batch 3:  Validation Loss= 2.297655, Validation Accuracy= 0.10360\n",
      "Epoch  1, CIFAR-10 Batch 4:  Validation Loss= 2.286885, Validation Accuracy= 0.13700\n",
      "Epoch  1, CIFAR-10 Batch 5:  Validation Loss= 2.277551, Validation Accuracy= 0.11500\n",
      "Epoch  2, CIFAR-10 Batch 1:  Validation Loss= 2.274023, Validation Accuracy= 0.13900\n",
      "Epoch  2, CIFAR-10 Batch 2:  Validation Loss= 2.254616, Validation Accuracy= 0.14460\n",
      "Epoch  2, CIFAR-10 Batch 3:  Validation Loss= 2.161662, Validation Accuracy= 0.17000\n",
      "Epoch  2, CIFAR-10 Batch 4:  Validation Loss= 2.130813, Validation Accuracy= 0.17760\n",
      "Epoch  2, CIFAR-10 Batch 5:  Validation Loss= 2.098478, Validation Accuracy= 0.19840\n",
      "Epoch  3, CIFAR-10 Batch 1:  Validation Loss= 2.068909, Validation Accuracy= 0.23520\n",
      "Epoch  3, CIFAR-10 Batch 2:  Validation Loss= 2.091237, Validation Accuracy= 0.21940\n",
      "Epoch  3, CIFAR-10 Batch 3:  Validation Loss= 2.072766, Validation Accuracy= 0.21700\n",
      "Epoch  3, CIFAR-10 Batch 4:  Validation Loss= 2.029902, Validation Accuracy= 0.23680\n",
      "Epoch  3, CIFAR-10 Batch 5:  Validation Loss= 1.984551, Validation Accuracy= 0.25280\n",
      "Epoch  4, CIFAR-10 Batch 1:  Validation Loss= 1.953725, Validation Accuracy= 0.27160\n",
      "Epoch  4, CIFAR-10 Batch 2:  Validation Loss= 1.939739, Validation Accuracy= 0.27580\n",
      "Epoch  4, CIFAR-10 Batch 3:  Validation Loss= 1.916086, Validation Accuracy= 0.26540\n",
      "Epoch  4, CIFAR-10 Batch 4:  Validation Loss= 1.907025, Validation Accuracy= 0.29100\n",
      "Epoch  4, CIFAR-10 Batch 5:  Validation Loss= 1.843412, Validation Accuracy= 0.29340\n",
      "Epoch  5, CIFAR-10 Batch 1:  Validation Loss= 1.960985, Validation Accuracy= 0.26460\n",
      "Epoch  5, CIFAR-10 Batch 2:  Validation Loss= 1.945386, Validation Accuracy= 0.30540\n",
      "Epoch  5, CIFAR-10 Batch 3:  Validation Loss= 1.844119, Validation Accuracy= 0.29920\n",
      "Epoch  5, CIFAR-10 Batch 4:  Validation Loss= 1.838287, Validation Accuracy= 0.30320\n",
      "Epoch  5, CIFAR-10 Batch 5:  Validation Loss= 1.837287, Validation Accuracy= 0.30760\n",
      "Epoch  6, CIFAR-10 Batch 1:  Validation Loss= 1.797472, Validation Accuracy= 0.32440\n",
      "Epoch  6, CIFAR-10 Batch 2:  Validation Loss= 1.764131, Validation Accuracy= 0.34220\n",
      "Epoch  6, CIFAR-10 Batch 3:  Validation Loss= 1.762196, Validation Accuracy= 0.33740\n",
      "Epoch  6, CIFAR-10 Batch 4:  Validation Loss= 1.749596, Validation Accuracy= 0.34500\n",
      "Epoch  6, CIFAR-10 Batch 5:  Validation Loss= 1.726864, Validation Accuracy= 0.36220\n",
      "Epoch  7, CIFAR-10 Batch 1:  Validation Loss= 1.725845, Validation Accuracy= 0.36260\n",
      "Epoch  7, CIFAR-10 Batch 2:  Validation Loss= 1.742827, Validation Accuracy= 0.35040\n",
      "Epoch  7, CIFAR-10 Batch 3:  Validation Loss= 1.711459, Validation Accuracy= 0.36780\n",
      "Epoch  7, CIFAR-10 Batch 4:  Validation Loss= 1.707550, Validation Accuracy= 0.36380\n",
      "Epoch  7, CIFAR-10 Batch 5:  Validation Loss= 1.708623, Validation Accuracy= 0.36940\n",
      "Epoch  8, CIFAR-10 Batch 1:  Validation Loss= 1.685101, Validation Accuracy= 0.37100\n",
      "Epoch  8, CIFAR-10 Batch 2:  Validation Loss= 1.685344, Validation Accuracy= 0.37800\n",
      "Epoch  8, CIFAR-10 Batch 3:  Validation Loss= 1.661597, Validation Accuracy= 0.38580\n",
      "Epoch  8, CIFAR-10 Batch 4:  Validation Loss= 1.664531, Validation Accuracy= 0.38160\n",
      "Epoch  8, CIFAR-10 Batch 5:  Validation Loss= 1.658528, Validation Accuracy= 0.38260\n",
      "Epoch  9, CIFAR-10 Batch 1:  Validation Loss= 1.641329, Validation Accuracy= 0.39640\n",
      "Epoch  9, CIFAR-10 Batch 2:  Validation Loss= 1.666391, Validation Accuracy= 0.38500\n",
      "Epoch  9, CIFAR-10 Batch 3:  Validation Loss= 1.625677, Validation Accuracy= 0.40240\n",
      "Epoch  9, CIFAR-10 Batch 4:  Validation Loss= 1.639627, Validation Accuracy= 0.39160\n",
      "Epoch  9, CIFAR-10 Batch 5:  Validation Loss= 1.620860, Validation Accuracy= 0.40660\n",
      "Epoch 10, CIFAR-10 Batch 1:  Validation Loss= 1.592226, Validation Accuracy= 0.41620\n",
      "Epoch 10, CIFAR-10 Batch 2:  Validation Loss= 1.639849, Validation Accuracy= 0.39800\n",
      "Epoch 10, CIFAR-10 Batch 3:  Validation Loss= 1.606498, Validation Accuracy= 0.41460\n",
      "Epoch 10, CIFAR-10 Batch 4:  Validation Loss= 1.607293, Validation Accuracy= 0.41380\n",
      "Epoch 10, CIFAR-10 Batch 5:  Validation Loss= 1.602524, Validation Accuracy= 0.41700\n",
      "Epoch 11, CIFAR-10 Batch 1:  Validation Loss= 1.564153, Validation Accuracy= 0.43140\n",
      "Epoch 11, CIFAR-10 Batch 2:  Validation Loss= 1.595132, Validation Accuracy= 0.41080\n",
      "Epoch 11, CIFAR-10 Batch 3:  Validation Loss= 1.547765, Validation Accuracy= 0.43040\n",
      "Epoch 11, CIFAR-10 Batch 4:  Validation Loss= 1.549659, Validation Accuracy= 0.43840\n",
      "Epoch 11, CIFAR-10 Batch 5:  Validation Loss= 1.561448, Validation Accuracy= 0.42920\n",
      "Epoch 12, CIFAR-10 Batch 1:  Validation Loss= 1.524498, Validation Accuracy= 0.44360\n",
      "Epoch 12, CIFAR-10 Batch 2:  Validation Loss= 1.575138, Validation Accuracy= 0.42760\n",
      "Epoch 12, CIFAR-10 Batch 3:  Validation Loss= 1.515535, Validation Accuracy= 0.43720\n",
      "Epoch 12, CIFAR-10 Batch 4:  Validation Loss= 1.526236, Validation Accuracy= 0.44320\n",
      "Epoch 12, CIFAR-10 Batch 5:  Validation Loss= 1.510145, Validation Accuracy= 0.44800\n",
      "Epoch 13, CIFAR-10 Batch 1:  Validation Loss= 1.501771, Validation Accuracy= 0.45060\n",
      "Epoch 13, CIFAR-10 Batch 2:  Validation Loss= 1.504723, Validation Accuracy= 0.45720\n",
      "Epoch 13, CIFAR-10 Batch 3:  Validation Loss= 1.491909, Validation Accuracy= 0.45580\n",
      "Epoch 13, CIFAR-10 Batch 4:  Validation Loss= 1.489289, Validation Accuracy= 0.45780\n",
      "Epoch 13, CIFAR-10 Batch 5:  Validation Loss= 1.480359, Validation Accuracy= 0.45960\n",
      "Epoch 14, CIFAR-10 Batch 1:  Validation Loss= 1.475336, Validation Accuracy= 0.46500\n",
      "Epoch 14, CIFAR-10 Batch 2:  Validation Loss= 1.502468, Validation Accuracy= 0.45720\n",
      "Epoch 14, CIFAR-10 Batch 3:  Validation Loss= 1.472150, Validation Accuracy= 0.46280\n",
      "Epoch 14, CIFAR-10 Batch 4:  Validation Loss= 1.447648, Validation Accuracy= 0.46860\n",
      "Epoch 14, CIFAR-10 Batch 5:  Validation Loss= 1.446121, Validation Accuracy= 0.47160\n",
      "Epoch 15, CIFAR-10 Batch 1:  Validation Loss= 1.478875, Validation Accuracy= 0.45300\n",
      "Epoch 15, CIFAR-10 Batch 2:  Validation Loss= 1.472944, Validation Accuracy= 0.46980\n",
      "Epoch 15, CIFAR-10 Batch 3:  Validation Loss= 1.464104, Validation Accuracy= 0.46440\n",
      "Epoch 15, CIFAR-10 Batch 4:  Validation Loss= 1.451601, Validation Accuracy= 0.47120\n",
      "Epoch 15, CIFAR-10 Batch 5:  Validation Loss= 1.412339, Validation Accuracy= 0.48480\n",
      "Epoch 16, CIFAR-10 Batch 1:  Validation Loss= 1.407888, Validation Accuracy= 0.48480\n",
      "Epoch 16, CIFAR-10 Batch 2:  Validation Loss= 1.446574, Validation Accuracy= 0.48020\n",
      "Epoch 16, CIFAR-10 Batch 3:  Validation Loss= 1.435408, Validation Accuracy= 0.47880\n",
      "Epoch 16, CIFAR-10 Batch 4:  Validation Loss= 1.397414, Validation Accuracy= 0.49860\n",
      "Epoch 16, CIFAR-10 Batch 5:  Validation Loss= 1.391725, Validation Accuracy= 0.48520\n",
      "Epoch 17, CIFAR-10 Batch 1:  Validation Loss= 1.410805, Validation Accuracy= 0.47380\n",
      "Epoch 17, CIFAR-10 Batch 2:  Validation Loss= 1.407444, Validation Accuracy= 0.49640\n",
      "Epoch 17, CIFAR-10 Batch 3:  Validation Loss= 1.415766, Validation Accuracy= 0.48400\n",
      "Epoch 17, CIFAR-10 Batch 4:  Validation Loss= 1.390399, Validation Accuracy= 0.49700\n",
      "Epoch 17, CIFAR-10 Batch 5:  Validation Loss= 1.368776, Validation Accuracy= 0.50180\n",
      "Epoch 18, CIFAR-10 Batch 1:  Validation Loss= 1.396224, Validation Accuracy= 0.47920\n",
      "Epoch 18, CIFAR-10 Batch 2:  Validation Loss= 1.382450, Validation Accuracy= 0.50180\n",
      "Epoch 18, CIFAR-10 Batch 3:  Validation Loss= 1.396285, Validation Accuracy= 0.49560\n",
      "Epoch 18, CIFAR-10 Batch 4:  Validation Loss= 1.365154, Validation Accuracy= 0.50640\n",
      "Epoch 18, CIFAR-10 Batch 5:  Validation Loss= 1.354597, Validation Accuracy= 0.50520\n",
      "Epoch 19, CIFAR-10 Batch 1:  Validation Loss= 1.394576, Validation Accuracy= 0.48220\n",
      "Epoch 19, CIFAR-10 Batch 2:  Validation Loss= 1.357863, Validation Accuracy= 0.51620\n",
      "Epoch 19, CIFAR-10 Batch 3:  Validation Loss= 1.362416, Validation Accuracy= 0.50520\n",
      "Epoch 19, CIFAR-10 Batch 4:  Validation Loss= 1.353252, Validation Accuracy= 0.51040\n",
      "Epoch 19, CIFAR-10 Batch 5:  Validation Loss= 1.336463, Validation Accuracy= 0.51160\n",
      "Epoch 20, CIFAR-10 Batch 1:  Validation Loss= 1.387852, Validation Accuracy= 0.49080\n",
      "Epoch 20, CIFAR-10 Batch 2:  Validation Loss= 1.334926, Validation Accuracy= 0.52020\n",
      "Epoch 20, CIFAR-10 Batch 3:  Validation Loss= 1.352415, Validation Accuracy= 0.50920\n",
      "Epoch 20, CIFAR-10 Batch 4:  Validation Loss= 1.326021, Validation Accuracy= 0.52440\n",
      "Epoch 20, CIFAR-10 Batch 5:  Validation Loss= 1.305357, Validation Accuracy= 0.52160\n",
      "Epoch 21, CIFAR-10 Batch 1:  Validation Loss= 1.346179, Validation Accuracy= 0.51400\n",
      "Epoch 21, CIFAR-10 Batch 2:  Validation Loss= 1.316291, Validation Accuracy= 0.53280\n",
      "Epoch 21, CIFAR-10 Batch 3:  Validation Loss= 1.308032, Validation Accuracy= 0.52200\n",
      "Epoch 21, CIFAR-10 Batch 4:  Validation Loss= 1.320502, Validation Accuracy= 0.53020\n",
      "Epoch 21, CIFAR-10 Batch 5:  Validation Loss= 1.295516, Validation Accuracy= 0.53220\n",
      "Epoch 22, CIFAR-10 Batch 1:  Validation Loss= 1.349608, Validation Accuracy= 0.51300\n",
      "Epoch 22, CIFAR-10 Batch 2:  Validation Loss= 1.292610, Validation Accuracy= 0.53960\n",
      "Epoch 22, CIFAR-10 Batch 3:  Validation Loss= 1.284917, Validation Accuracy= 0.53940\n",
      "Epoch 22, CIFAR-10 Batch 4:  Validation Loss= 1.308265, Validation Accuracy= 0.53660\n",
      "Epoch 22, CIFAR-10 Batch 5:  Validation Loss= 1.282434, Validation Accuracy= 0.53440\n",
      "Epoch 23, CIFAR-10 Batch 1:  Validation Loss= 1.330356, Validation Accuracy= 0.52000\n",
      "Epoch 23, CIFAR-10 Batch 2:  Validation Loss= 1.295569, Validation Accuracy= 0.53880\n",
      "Epoch 23, CIFAR-10 Batch 3:  Validation Loss= 1.279314, Validation Accuracy= 0.54400\n",
      "Epoch 23, CIFAR-10 Batch 4:  Validation Loss= 1.304683, Validation Accuracy= 0.53740\n",
      "Epoch 23, CIFAR-10 Batch 5:  Validation Loss= 1.264310, Validation Accuracy= 0.55020\n",
      "Epoch 24, CIFAR-10 Batch 1:  Validation Loss= 1.298174, Validation Accuracy= 0.53560\n",
      "Epoch 24, CIFAR-10 Batch 2:  Validation Loss= 1.279046, Validation Accuracy= 0.54640\n",
      "Epoch 24, CIFAR-10 Batch 3:  Validation Loss= 1.291523, Validation Accuracy= 0.53740\n",
      "Epoch 24, CIFAR-10 Batch 4:  Validation Loss= 1.331290, Validation Accuracy= 0.52340\n",
      "Epoch 24, CIFAR-10 Batch 5:  Validation Loss= 1.265947, Validation Accuracy= 0.55000\n",
      "Epoch 25, CIFAR-10 Batch 1:  Validation Loss= 1.270605, Validation Accuracy= 0.54540\n",
      "Epoch 25, CIFAR-10 Batch 2:  Validation Loss= 1.268725, Validation Accuracy= 0.55320\n",
      "Epoch 25, CIFAR-10 Batch 3:  Validation Loss= 1.260073, Validation Accuracy= 0.55080\n",
      "Epoch 25, CIFAR-10 Batch 4:  Validation Loss= 1.267452, Validation Accuracy= 0.55520\n",
      "Epoch 25, CIFAR-10 Batch 5:  Validation Loss= 1.237215, Validation Accuracy= 0.56020\n",
      "Epoch 26, CIFAR-10 Batch 1:  Validation Loss= 1.259676, Validation Accuracy= 0.54840\n",
      "Epoch 26, CIFAR-10 Batch 2:  Validation Loss= 1.258270, Validation Accuracy= 0.55880\n",
      "Epoch 26, CIFAR-10 Batch 3:  Validation Loss= 1.272611, Validation Accuracy= 0.54420\n",
      "Epoch 26, CIFAR-10 Batch 4:  Validation Loss= 1.276111, Validation Accuracy= 0.54100\n",
      "Epoch 26, CIFAR-10 Batch 5:  Validation Loss= 1.225807, Validation Accuracy= 0.56340\n",
      "Epoch 27, CIFAR-10 Batch 1:  Validation Loss= 1.210190, Validation Accuracy= 0.56960\n",
      "Epoch 27, CIFAR-10 Batch 2:  Validation Loss= 1.217037, Validation Accuracy= 0.56680\n",
      "Epoch 27, CIFAR-10 Batch 3:  Validation Loss= 1.230423, Validation Accuracy= 0.55300\n",
      "Epoch 27, CIFAR-10 Batch 4:  Validation Loss= 1.244807, Validation Accuracy= 0.55300\n",
      "Epoch 27, CIFAR-10 Batch 5:  Validation Loss= 1.202983, Validation Accuracy= 0.57180\n",
      "Epoch 28, CIFAR-10 Batch 1:  Validation Loss= 1.211940, Validation Accuracy= 0.56460\n",
      "Epoch 28, CIFAR-10 Batch 2:  Validation Loss= 1.218138, Validation Accuracy= 0.56860\n",
      "Epoch 28, CIFAR-10 Batch 3:  Validation Loss= 1.202345, Validation Accuracy= 0.56720\n",
      "Epoch 28, CIFAR-10 Batch 4:  Validation Loss= 1.225809, Validation Accuracy= 0.56120\n",
      "Epoch 28, CIFAR-10 Batch 5:  Validation Loss= 1.212055, Validation Accuracy= 0.57360\n",
      "Epoch 29, CIFAR-10 Batch 1:  Validation Loss= 1.219904, Validation Accuracy= 0.56820\n",
      "Epoch 29, CIFAR-10 Batch 2:  Validation Loss= 1.207789, Validation Accuracy= 0.57660\n",
      "Epoch 29, CIFAR-10 Batch 3:  Validation Loss= 1.183324, Validation Accuracy= 0.57660\n",
      "Epoch 29, CIFAR-10 Batch 4:  Validation Loss= 1.217886, Validation Accuracy= 0.56900\n",
      "Epoch 29, CIFAR-10 Batch 5:  Validation Loss= 1.189044, Validation Accuracy= 0.57980\n",
      "Epoch 30, CIFAR-10 Batch 1:  Validation Loss= 1.195595, Validation Accuracy= 0.57600\n",
      "Epoch 30, CIFAR-10 Batch 2:  Validation Loss= 1.182232, Validation Accuracy= 0.58320\n",
      "Epoch 30, CIFAR-10 Batch 3:  Validation Loss= 1.171072, Validation Accuracy= 0.58380\n",
      "Epoch 30, CIFAR-10 Batch 4:  Validation Loss= 1.221164, Validation Accuracy= 0.57000\n",
      "Epoch 30, CIFAR-10 Batch 5:  Validation Loss= 1.176133, Validation Accuracy= 0.58760\n",
      "Epoch 31, CIFAR-10 Batch 1:  Validation Loss= 1.188407, Validation Accuracy= 0.56980\n",
      "Epoch 31, CIFAR-10 Batch 2:  Validation Loss= 1.188672, Validation Accuracy= 0.57680\n",
      "Epoch 31, CIFAR-10 Batch 3:  Validation Loss= 1.177922, Validation Accuracy= 0.58160\n",
      "Epoch 31, CIFAR-10 Batch 4:  Validation Loss= 1.194119, Validation Accuracy= 0.57780\n",
      "Epoch 31, CIFAR-10 Batch 5:  Validation Loss= 1.151491, Validation Accuracy= 0.59120\n",
      "Epoch 32, CIFAR-10 Batch 1:  Validation Loss= 1.141504, Validation Accuracy= 0.59580\n",
      "Epoch 32, CIFAR-10 Batch 2:  Validation Loss= 1.156813, Validation Accuracy= 0.59840\n",
      "Epoch 32, CIFAR-10 Batch 3:  Validation Loss= 1.139542, Validation Accuracy= 0.58700\n",
      "Epoch 32, CIFAR-10 Batch 4:  Validation Loss= 1.183074, Validation Accuracy= 0.57980\n",
      "Epoch 32, CIFAR-10 Batch 5:  Validation Loss= 1.132703, Validation Accuracy= 0.60020\n",
      "Epoch 33, CIFAR-10 Batch 1:  Validation Loss= 1.134303, Validation Accuracy= 0.59240\n",
      "Epoch 33, CIFAR-10 Batch 2:  Validation Loss= 1.165705, Validation Accuracy= 0.58120\n",
      "Epoch 33, CIFAR-10 Batch 3:  Validation Loss= 1.200288, Validation Accuracy= 0.56120\n",
      "Epoch 33, CIFAR-10 Batch 4:  Validation Loss= 1.199495, Validation Accuracy= 0.57360\n",
      "Epoch 33, CIFAR-10 Batch 5:  Validation Loss= 1.154682, Validation Accuracy= 0.59580\n",
      "Epoch 34, CIFAR-10 Batch 1:  Validation Loss= 1.130845, Validation Accuracy= 0.59940\n",
      "Epoch 34, CIFAR-10 Batch 2:  Validation Loss= 1.129634, Validation Accuracy= 0.60340\n",
      "Epoch 34, CIFAR-10 Batch 3:  Validation Loss= 1.139819, Validation Accuracy= 0.59580\n",
      "Epoch 34, CIFAR-10 Batch 4:  Validation Loss= 1.153550, Validation Accuracy= 0.58740\n",
      "Epoch 34, CIFAR-10 Batch 5:  Validation Loss= 1.120737, Validation Accuracy= 0.60080\n",
      "Epoch 35, CIFAR-10 Batch 1:  Validation Loss= 1.123473, Validation Accuracy= 0.60340\n",
      "Epoch 35, CIFAR-10 Batch 2:  Validation Loss= 1.120850, Validation Accuracy= 0.60500\n",
      "Epoch 35, CIFAR-10 Batch 3:  Validation Loss= 1.114422, Validation Accuracy= 0.59600\n",
      "Epoch 35, CIFAR-10 Batch 4:  Validation Loss= 1.146639, Validation Accuracy= 0.58620\n",
      "Epoch 35, CIFAR-10 Batch 5:  Validation Loss= 1.112683, Validation Accuracy= 0.60780\n",
      "Epoch 36, CIFAR-10 Batch 1:  Validation Loss= 1.111506, Validation Accuracy= 0.60420\n",
      "Epoch 36, CIFAR-10 Batch 2:  Validation Loss= 1.115274, Validation Accuracy= 0.60660\n",
      "Epoch 36, CIFAR-10 Batch 3:  Validation Loss= 1.119343, Validation Accuracy= 0.60120\n",
      "Epoch 36, CIFAR-10 Batch 4:  Validation Loss= 1.124775, Validation Accuracy= 0.59700\n",
      "Epoch 36, CIFAR-10 Batch 5:  Validation Loss= 1.101115, Validation Accuracy= 0.61340\n",
      "Epoch 37, CIFAR-10 Batch 1:  Validation Loss= 1.094988, Validation Accuracy= 0.61120\n",
      "Epoch 37, CIFAR-10 Batch 2:  Validation Loss= 1.110574, Validation Accuracy= 0.60600\n",
      "Epoch 37, CIFAR-10 Batch 3:  Validation Loss= 1.112899, Validation Accuracy= 0.60140\n",
      "Epoch 37, CIFAR-10 Batch 4:  Validation Loss= 1.125190, Validation Accuracy= 0.59940\n",
      "Epoch 37, CIFAR-10 Batch 5:  Validation Loss= 1.098157, Validation Accuracy= 0.61220\n",
      "Epoch 38, CIFAR-10 Batch 1:  Validation Loss= 1.087561, Validation Accuracy= 0.61320\n",
      "Epoch 38, CIFAR-10 Batch 2:  Validation Loss= 1.091005, Validation Accuracy= 0.61020\n",
      "Epoch 38, CIFAR-10 Batch 3:  Validation Loss= 1.083359, Validation Accuracy= 0.61900\n",
      "Epoch 38, CIFAR-10 Batch 4:  Validation Loss= 1.134465, Validation Accuracy= 0.59120\n",
      "Epoch 38, CIFAR-10 Batch 5:  Validation Loss= 1.079409, Validation Accuracy= 0.61840\n",
      "Epoch 39, CIFAR-10 Batch 1:  Validation Loss= 1.077064, Validation Accuracy= 0.61680\n",
      "Epoch 39, CIFAR-10 Batch 2:  Validation Loss= 1.077907, Validation Accuracy= 0.61720\n",
      "Epoch 39, CIFAR-10 Batch 3:  Validation Loss= 1.090893, Validation Accuracy= 0.61200\n",
      "Epoch 39, CIFAR-10 Batch 4:  Validation Loss= 1.107142, Validation Accuracy= 0.60340\n",
      "Epoch 39, CIFAR-10 Batch 5:  Validation Loss= 1.064214, Validation Accuracy= 0.62460\n",
      "Epoch 40, CIFAR-10 Batch 1:  Validation Loss= 1.084831, Validation Accuracy= 0.61520\n",
      "Epoch 40, CIFAR-10 Batch 2:  Validation Loss= 1.064062, Validation Accuracy= 0.62440\n",
      "Epoch 40, CIFAR-10 Batch 3:  Validation Loss= 1.062483, Validation Accuracy= 0.61780\n",
      "Epoch 40, CIFAR-10 Batch 4:  Validation Loss= 1.096247, Validation Accuracy= 0.60700\n",
      "Epoch 40, CIFAR-10 Batch 5:  Validation Loss= 1.068416, Validation Accuracy= 0.62580\n",
      "Epoch 41, CIFAR-10 Batch 1:  Validation Loss= 1.062170, Validation Accuracy= 0.61680\n",
      "Epoch 41, CIFAR-10 Batch 2:  Validation Loss= 1.050175, Validation Accuracy= 0.63080\n",
      "Epoch 41, CIFAR-10 Batch 3:  Validation Loss= 1.055773, Validation Accuracy= 0.62400\n",
      "Epoch 41, CIFAR-10 Batch 4:  Validation Loss= 1.090960, Validation Accuracy= 0.60900\n",
      "Epoch 41, CIFAR-10 Batch 5:  Validation Loss= 1.063733, Validation Accuracy= 0.62440\n",
      "Epoch 42, CIFAR-10 Batch 1:  Validation Loss= 1.066773, Validation Accuracy= 0.61720\n",
      "Epoch 42, CIFAR-10 Batch 2:  Validation Loss= 1.069488, Validation Accuracy= 0.62340\n",
      "Epoch 42, CIFAR-10 Batch 3:  Validation Loss= 1.070076, Validation Accuracy= 0.61740\n",
      "Epoch 42, CIFAR-10 Batch 4:  Validation Loss= 1.102152, Validation Accuracy= 0.60280\n",
      "Epoch 42, CIFAR-10 Batch 5:  Validation Loss= 1.038500, Validation Accuracy= 0.63200\n",
      "Epoch 43, CIFAR-10 Batch 1:  Validation Loss= 1.064407, Validation Accuracy= 0.61240\n",
      "Epoch 43, CIFAR-10 Batch 2:  Validation Loss= 1.046851, Validation Accuracy= 0.63140\n",
      "Epoch 43, CIFAR-10 Batch 3:  Validation Loss= 1.055012, Validation Accuracy= 0.61780\n",
      "Epoch 43, CIFAR-10 Batch 4:  Validation Loss= 1.074147, Validation Accuracy= 0.61080\n",
      "Epoch 43, CIFAR-10 Batch 5:  Validation Loss= 1.055501, Validation Accuracy= 0.62660\n",
      "Epoch 44, CIFAR-10 Batch 1:  Validation Loss= 1.053485, Validation Accuracy= 0.63000\n",
      "Epoch 44, CIFAR-10 Batch 2:  Validation Loss= 1.056886, Validation Accuracy= 0.62320\n",
      "Epoch 44, CIFAR-10 Batch 3:  Validation Loss= 1.031900, Validation Accuracy= 0.63240\n",
      "Epoch 44, CIFAR-10 Batch 4:  Validation Loss= 1.038707, Validation Accuracy= 0.63220\n",
      "Epoch 44, CIFAR-10 Batch 5:  Validation Loss= 1.047135, Validation Accuracy= 0.62800\n",
      "Epoch 45, CIFAR-10 Batch 1:  Validation Loss= 1.039557, Validation Accuracy= 0.62480\n",
      "Epoch 45, CIFAR-10 Batch 2:  Validation Loss= 1.043597, Validation Accuracy= 0.62740\n",
      "Epoch 45, CIFAR-10 Batch 3:  Validation Loss= 1.036707, Validation Accuracy= 0.63240\n",
      "Epoch 45, CIFAR-10 Batch 4:  Validation Loss= 1.057359, Validation Accuracy= 0.62560\n",
      "Epoch 45, CIFAR-10 Batch 5:  Validation Loss= 1.025156, Validation Accuracy= 0.63600\n",
      "Epoch 46, CIFAR-10 Batch 1:  Validation Loss= 1.061088, Validation Accuracy= 0.62000\n",
      "Epoch 46, CIFAR-10 Batch 2:  Validation Loss= 1.033446, Validation Accuracy= 0.63320\n",
      "Epoch 46, CIFAR-10 Batch 3:  Validation Loss= 1.017576, Validation Accuracy= 0.63540\n",
      "Epoch 46, CIFAR-10 Batch 4:  Validation Loss= 1.019750, Validation Accuracy= 0.63900\n",
      "Epoch 46, CIFAR-10 Batch 5:  Validation Loss= 1.019220, Validation Accuracy= 0.63660\n",
      "Epoch 47, CIFAR-10 Batch 1:  Validation Loss= 1.025056, Validation Accuracy= 0.63160\n",
      "Epoch 47, CIFAR-10 Batch 2:  Validation Loss= 1.009454, Validation Accuracy= 0.64520\n",
      "Epoch 47, CIFAR-10 Batch 3:  Validation Loss= 1.016215, Validation Accuracy= 0.63480\n",
      "Epoch 47, CIFAR-10 Batch 4:  Validation Loss= 1.039515, Validation Accuracy= 0.63000\n",
      "Epoch 47, CIFAR-10 Batch 5:  Validation Loss= 1.004685, Validation Accuracy= 0.64760\n",
      "Epoch 48, CIFAR-10 Batch 1:  Validation Loss= 1.006462, Validation Accuracy= 0.64220\n",
      "Epoch 48, CIFAR-10 Batch 2:  Validation Loss= 1.002976, Validation Accuracy= 0.64440\n",
      "Epoch 48, CIFAR-10 Batch 3:  Validation Loss= 1.030883, Validation Accuracy= 0.62920\n",
      "Epoch 48, CIFAR-10 Batch 4:  Validation Loss= 1.021999, Validation Accuracy= 0.63760\n",
      "Epoch 48, CIFAR-10 Batch 5:  Validation Loss= 1.002275, Validation Accuracy= 0.64260\n",
      "Epoch 49, CIFAR-10 Batch 1:  Validation Loss= 1.004453, Validation Accuracy= 0.64300\n",
      "Epoch 49, CIFAR-10 Batch 2:  Validation Loss= 0.994540, Validation Accuracy= 0.64760\n",
      "Epoch 49, CIFAR-10 Batch 3:  Validation Loss= 0.992836, Validation Accuracy= 0.64460\n",
      "Epoch 49, CIFAR-10 Batch 4:  Validation Loss= 0.991027, Validation Accuracy= 0.64980\n",
      "Epoch 49, CIFAR-10 Batch 5:  Validation Loss= 1.000428, Validation Accuracy= 0.64160\n",
      "Epoch 50, CIFAR-10 Batch 1:  Validation Loss= 0.999758, Validation Accuracy= 0.64180\n",
      "Epoch 50, CIFAR-10 Batch 2:  Validation Loss= 0.978766, Validation Accuracy= 0.65320\n",
      "Epoch 50, CIFAR-10 Batch 3:  Validation Loss= 0.978478, Validation Accuracy= 0.65240\n",
      "Epoch 50, CIFAR-10 Batch 4:  Validation Loss= 1.017375, Validation Accuracy= 0.63560\n",
      "Epoch 50, CIFAR-10 Batch 5:  Validation Loss= 1.002206, Validation Accuracy= 0.64020\n",
      "Epoch 51, CIFAR-10 Batch 1:  Validation Loss= 1.001292, Validation Accuracy= 0.64360\n",
      "Epoch 51, CIFAR-10 Batch 2:  Validation Loss= 0.982160, Validation Accuracy= 0.65300\n",
      "Epoch 51, CIFAR-10 Batch 3:  Validation Loss= 0.974991, Validation Accuracy= 0.65280\n",
      "Epoch 51, CIFAR-10 Batch 4:  Validation Loss= 0.978324, Validation Accuracy= 0.65120\n",
      "Epoch 51, CIFAR-10 Batch 5:  Validation Loss= 0.982726, Validation Accuracy= 0.64680\n",
      "Epoch 52, CIFAR-10 Batch 1:  Validation Loss= 0.995766, Validation Accuracy= 0.64820\n",
      "Epoch 52, CIFAR-10 Batch 2:  Validation Loss= 0.968878, Validation Accuracy= 0.65300\n",
      "Epoch 52, CIFAR-10 Batch 3:  Validation Loss= 0.979923, Validation Accuracy= 0.65420\n",
      "Epoch 52, CIFAR-10 Batch 4:  Validation Loss= 0.970469, Validation Accuracy= 0.65240\n",
      "Epoch 52, CIFAR-10 Batch 5:  Validation Loss= 0.986924, Validation Accuracy= 0.65020\n",
      "Epoch 53, CIFAR-10 Batch 1:  Validation Loss= 0.971364, Validation Accuracy= 0.65340\n",
      "Epoch 53, CIFAR-10 Batch 2:  Validation Loss= 0.976704, Validation Accuracy= 0.65580\n",
      "Epoch 53, CIFAR-10 Batch 3:  Validation Loss= 0.968843, Validation Accuracy= 0.65700\n",
      "Epoch 53, CIFAR-10 Batch 4:  Validation Loss= 0.995076, Validation Accuracy= 0.65080\n",
      "Epoch 53, CIFAR-10 Batch 5:  Validation Loss= 0.972472, Validation Accuracy= 0.65240\n",
      "Epoch 54, CIFAR-10 Batch 1:  Validation Loss= 0.990170, Validation Accuracy= 0.64680\n",
      "Epoch 54, CIFAR-10 Batch 2:  Validation Loss= 0.987302, Validation Accuracy= 0.65080\n",
      "Epoch 54, CIFAR-10 Batch 3:  Validation Loss= 1.022170, Validation Accuracy= 0.63200\n",
      "Epoch 54, CIFAR-10 Batch 4:  Validation Loss= 1.054446, Validation Accuracy= 0.62580\n",
      "Epoch 54, CIFAR-10 Batch 5:  Validation Loss= 1.003441, Validation Accuracy= 0.63740\n",
      "Epoch 55, CIFAR-10 Batch 1:  Validation Loss= 0.972436, Validation Accuracy= 0.65500\n",
      "Epoch 55, CIFAR-10 Batch 2:  Validation Loss= 0.960363, Validation Accuracy= 0.66260\n",
      "Epoch 55, CIFAR-10 Batch 3:  Validation Loss= 0.948898, Validation Accuracy= 0.66400\n",
      "Epoch 55, CIFAR-10 Batch 4:  Validation Loss= 0.984812, Validation Accuracy= 0.65380\n",
      "Epoch 55, CIFAR-10 Batch 5:  Validation Loss= 0.970410, Validation Accuracy= 0.65760\n",
      "Epoch 56, CIFAR-10 Batch 1:  Validation Loss= 0.957152, Validation Accuracy= 0.66140\n",
      "Epoch 56, CIFAR-10 Batch 2:  Validation Loss= 0.979064, Validation Accuracy= 0.65180\n",
      "Epoch 56, CIFAR-10 Batch 3:  Validation Loss= 0.981937, Validation Accuracy= 0.64800\n",
      "Epoch 56, CIFAR-10 Batch 4:  Validation Loss= 0.979922, Validation Accuracy= 0.65460\n",
      "Epoch 56, CIFAR-10 Batch 5:  Validation Loss= 0.963053, Validation Accuracy= 0.66060\n",
      "Epoch 57, CIFAR-10 Batch 1:  Validation Loss= 0.928765, Validation Accuracy= 0.67940\n",
      "Epoch 57, CIFAR-10 Batch 2:  Validation Loss= 0.942616, Validation Accuracy= 0.67640\n",
      "Epoch 57, CIFAR-10 Batch 3:  Validation Loss= 0.932292, Validation Accuracy= 0.67500\n",
      "Epoch 57, CIFAR-10 Batch 4:  Validation Loss= 0.971387, Validation Accuracy= 0.65900\n",
      "Epoch 57, CIFAR-10 Batch 5:  Validation Loss= 0.987789, Validation Accuracy= 0.64700\n",
      "Epoch 58, CIFAR-10 Batch 1:  Validation Loss= 0.963824, Validation Accuracy= 0.66900\n",
      "Epoch 58, CIFAR-10 Batch 2:  Validation Loss= 0.946628, Validation Accuracy= 0.66200\n",
      "Epoch 58, CIFAR-10 Batch 3:  Validation Loss= 0.965002, Validation Accuracy= 0.65960\n",
      "Epoch 58, CIFAR-10 Batch 4:  Validation Loss= 0.958951, Validation Accuracy= 0.66280\n",
      "Epoch 58, CIFAR-10 Batch 5:  Validation Loss= 0.956738, Validation Accuracy= 0.65520\n",
      "Epoch 59, CIFAR-10 Batch 1:  Validation Loss= 0.936176, Validation Accuracy= 0.66880\n",
      "Epoch 59, CIFAR-10 Batch 2:  Validation Loss= 0.946408, Validation Accuracy= 0.66960\n",
      "Epoch 59, CIFAR-10 Batch 3:  Validation Loss= 0.985833, Validation Accuracy= 0.65060\n",
      "Epoch 59, CIFAR-10 Batch 4:  Validation Loss= 0.962892, Validation Accuracy= 0.65840\n",
      "Epoch 59, CIFAR-10 Batch 5:  Validation Loss= 0.955249, Validation Accuracy= 0.66120\n",
      "Epoch 60, CIFAR-10 Batch 1:  Validation Loss= 0.922969, Validation Accuracy= 0.67400\n",
      "Epoch 60, CIFAR-10 Batch 2:  Validation Loss= 0.933230, Validation Accuracy= 0.67080\n",
      "Epoch 60, CIFAR-10 Batch 3:  Validation Loss= 0.947657, Validation Accuracy= 0.66240\n",
      "Epoch 60, CIFAR-10 Batch 4:  Validation Loss= 0.942622, Validation Accuracy= 0.66960\n",
      "Epoch 60, CIFAR-10 Batch 5:  Validation Loss= 0.934425, Validation Accuracy= 0.67220\n",
      "Epoch 61, CIFAR-10 Batch 1:  Validation Loss= 0.912749, Validation Accuracy= 0.68300\n",
      "Epoch 61, CIFAR-10 Batch 2:  Validation Loss= 0.913217, Validation Accuracy= 0.68120\n",
      "Epoch 61, CIFAR-10 Batch 3:  Validation Loss= 0.921166, Validation Accuracy= 0.67360\n",
      "Epoch 61, CIFAR-10 Batch 4:  Validation Loss= 0.949521, Validation Accuracy= 0.66260\n",
      "Epoch 61, CIFAR-10 Batch 5:  Validation Loss= 0.935971, Validation Accuracy= 0.66620\n",
      "Epoch 62, CIFAR-10 Batch 1:  Validation Loss= 0.904256, Validation Accuracy= 0.67960\n",
      "Epoch 62, CIFAR-10 Batch 2:  Validation Loss= 0.908638, Validation Accuracy= 0.68340\n",
      "Epoch 62, CIFAR-10 Batch 3:  Validation Loss= 0.930609, Validation Accuracy= 0.67000\n",
      "Epoch 62, CIFAR-10 Batch 4:  Validation Loss= 0.924891, Validation Accuracy= 0.67580\n",
      "Epoch 62, CIFAR-10 Batch 5:  Validation Loss= 0.941446, Validation Accuracy= 0.66800\n",
      "Epoch 63, CIFAR-10 Batch 1:  Validation Loss= 0.912645, Validation Accuracy= 0.67580\n",
      "Epoch 63, CIFAR-10 Batch 2:  Validation Loss= 0.917957, Validation Accuracy= 0.67660\n",
      "Epoch 63, CIFAR-10 Batch 3:  Validation Loss= 0.940295, Validation Accuracy= 0.66440\n",
      "Epoch 63, CIFAR-10 Batch 4:  Validation Loss= 0.927930, Validation Accuracy= 0.67540\n",
      "Epoch 63, CIFAR-10 Batch 5:  Validation Loss= 0.928246, Validation Accuracy= 0.67300\n",
      "Epoch 64, CIFAR-10 Batch 1:  Validation Loss= 0.904716, Validation Accuracy= 0.68540\n",
      "Epoch 64, CIFAR-10 Batch 2:  Validation Loss= 0.913084, Validation Accuracy= 0.67960\n",
      "Epoch 64, CIFAR-10 Batch 3:  Validation Loss= 0.946207, Validation Accuracy= 0.65960\n",
      "Epoch 64, CIFAR-10 Batch 4:  Validation Loss= 0.925534, Validation Accuracy= 0.67680\n",
      "Epoch 64, CIFAR-10 Batch 5:  Validation Loss= 0.908813, Validation Accuracy= 0.68280\n",
      "Epoch 65, CIFAR-10 Batch 1:  Validation Loss= 0.881880, Validation Accuracy= 0.69260\n",
      "Epoch 65, CIFAR-10 Batch 2:  Validation Loss= 0.882046, Validation Accuracy= 0.69400\n",
      "Epoch 65, CIFAR-10 Batch 3:  Validation Loss= 0.906300, Validation Accuracy= 0.68200\n",
      "Epoch 65, CIFAR-10 Batch 4:  Validation Loss= 0.933978, Validation Accuracy= 0.67020\n",
      "Epoch 65, CIFAR-10 Batch 5:  Validation Loss= 0.902261, Validation Accuracy= 0.68540\n",
      "Epoch 66, CIFAR-10 Batch 1:  Validation Loss= 0.875008, Validation Accuracy= 0.69640\n",
      "Epoch 66, CIFAR-10 Batch 2:  Validation Loss= 0.875513, Validation Accuracy= 0.69520\n",
      "Epoch 66, CIFAR-10 Batch 3:  Validation Loss= 0.884476, Validation Accuracy= 0.69060\n",
      "Epoch 66, CIFAR-10 Batch 4:  Validation Loss= 0.917632, Validation Accuracy= 0.68220\n",
      "Epoch 66, CIFAR-10 Batch 5:  Validation Loss= 0.888378, Validation Accuracy= 0.69120\n",
      "Epoch 67, CIFAR-10 Batch 1:  Validation Loss= 0.876559, Validation Accuracy= 0.69480\n",
      "Epoch 67, CIFAR-10 Batch 2:  Validation Loss= 0.888745, Validation Accuracy= 0.69020\n",
      "Epoch 67, CIFAR-10 Batch 3:  Validation Loss= 0.904226, Validation Accuracy= 0.67980\n",
      "Epoch 67, CIFAR-10 Batch 4:  Validation Loss= 0.896330, Validation Accuracy= 0.68220\n",
      "Epoch 67, CIFAR-10 Batch 5:  Validation Loss= 0.926368, Validation Accuracy= 0.67280\n",
      "Epoch 68, CIFAR-10 Batch 1:  Validation Loss= 0.890076, Validation Accuracy= 0.68420\n",
      "Epoch 68, CIFAR-10 Batch 2:  Validation Loss= 0.898920, Validation Accuracy= 0.68560\n",
      "Epoch 68, CIFAR-10 Batch 3:  Validation Loss= 0.898001, Validation Accuracy= 0.68120\n",
      "Epoch 68, CIFAR-10 Batch 4:  Validation Loss= 0.886341, Validation Accuracy= 0.68940\n",
      "Epoch 68, CIFAR-10 Batch 5:  Validation Loss= 0.881571, Validation Accuracy= 0.68880\n",
      "Epoch 69, CIFAR-10 Batch 1:  Validation Loss= 0.863324, Validation Accuracy= 0.69620\n",
      "Epoch 69, CIFAR-10 Batch 2:  Validation Loss= 0.873664, Validation Accuracy= 0.69400\n",
      "Epoch 69, CIFAR-10 Batch 3:  Validation Loss= 0.912266, Validation Accuracy= 0.67520\n",
      "Epoch 69, CIFAR-10 Batch 4:  Validation Loss= 0.893056, Validation Accuracy= 0.67940\n",
      "Epoch 69, CIFAR-10 Batch 5:  Validation Loss= 0.906621, Validation Accuracy= 0.68140\n",
      "Epoch 70, CIFAR-10 Batch 1:  Validation Loss= 0.868256, Validation Accuracy= 0.69220\n",
      "Epoch 70, CIFAR-10 Batch 2:  Validation Loss= 0.888324, Validation Accuracy= 0.68900\n",
      "Epoch 70, CIFAR-10 Batch 3:  Validation Loss= 0.899373, Validation Accuracy= 0.67820\n",
      "Epoch 70, CIFAR-10 Batch 4:  Validation Loss= 0.896356, Validation Accuracy= 0.68580\n",
      "Epoch 70, CIFAR-10 Batch 5:  Validation Loss= 0.896089, Validation Accuracy= 0.68480\n",
      "Epoch 71, CIFAR-10 Batch 1:  Validation Loss= 0.869181, Validation Accuracy= 0.69360\n",
      "Epoch 71, CIFAR-10 Batch 2:  Validation Loss= 0.884400, Validation Accuracy= 0.68440\n",
      "Epoch 71, CIFAR-10 Batch 3:  Validation Loss= 0.920731, Validation Accuracy= 0.67180\n",
      "Epoch 71, CIFAR-10 Batch 4:  Validation Loss= 0.897303, Validation Accuracy= 0.68180\n",
      "Epoch 71, CIFAR-10 Batch 5:  Validation Loss= 0.889991, Validation Accuracy= 0.68660\n",
      "Epoch 72, CIFAR-10 Batch 1:  Validation Loss= 0.854341, Validation Accuracy= 0.69940\n",
      "Epoch 72, CIFAR-10 Batch 2:  Validation Loss= 0.874451, Validation Accuracy= 0.69420\n",
      "Epoch 72, CIFAR-10 Batch 3:  Validation Loss= 0.889513, Validation Accuracy= 0.68700\n",
      "Epoch 72, CIFAR-10 Batch 4:  Validation Loss= 0.881305, Validation Accuracy= 0.68780\n",
      "Epoch 72, CIFAR-10 Batch 5:  Validation Loss= 0.883321, Validation Accuracy= 0.69220\n",
      "Epoch 73, CIFAR-10 Batch 1:  Validation Loss= 0.864147, Validation Accuracy= 0.69280\n",
      "Epoch 73, CIFAR-10 Batch 2:  Validation Loss= 0.859094, Validation Accuracy= 0.69760\n",
      "Epoch 73, CIFAR-10 Batch 3:  Validation Loss= 0.875331, Validation Accuracy= 0.68860\n",
      "Epoch 73, CIFAR-10 Batch 4:  Validation Loss= 0.904521, Validation Accuracy= 0.68120\n",
      "Epoch 73, CIFAR-10 Batch 5:  Validation Loss= 0.848101, Validation Accuracy= 0.70200\n",
      "Epoch 74, CIFAR-10 Batch 1:  Validation Loss= 0.846511, Validation Accuracy= 0.70700\n",
      "Epoch 74, CIFAR-10 Batch 2:  Validation Loss= 0.847118, Validation Accuracy= 0.70280\n",
      "Epoch 74, CIFAR-10 Batch 3:  Validation Loss= 0.844895, Validation Accuracy= 0.70660\n",
      "Epoch 74, CIFAR-10 Batch 4:  Validation Loss= 0.854363, Validation Accuracy= 0.70020\n",
      "Epoch 74, CIFAR-10 Batch 5:  Validation Loss= 0.865862, Validation Accuracy= 0.69640\n",
      "Epoch 75, CIFAR-10 Batch 1:  Validation Loss= 0.843473, Validation Accuracy= 0.70380\n",
      "Epoch 75, CIFAR-10 Batch 2:  Validation Loss= 0.860172, Validation Accuracy= 0.70280\n",
      "Epoch 75, CIFAR-10 Batch 3:  Validation Loss= 0.858067, Validation Accuracy= 0.69440\n",
      "Epoch 75, CIFAR-10 Batch 4:  Validation Loss= 0.878236, Validation Accuracy= 0.68760\n",
      "Epoch 75, CIFAR-10 Batch 5:  Validation Loss= 0.851739, Validation Accuracy= 0.70200\n",
      "Epoch 76, CIFAR-10 Batch 1:  Validation Loss= 0.828708, Validation Accuracy= 0.70760\n",
      "Epoch 76, CIFAR-10 Batch 2:  Validation Loss= 0.844254, Validation Accuracy= 0.70160\n",
      "Epoch 76, CIFAR-10 Batch 3:  Validation Loss= 0.888307, Validation Accuracy= 0.68140\n",
      "Epoch 76, CIFAR-10 Batch 4:  Validation Loss= 0.850344, Validation Accuracy= 0.70080\n",
      "Epoch 76, CIFAR-10 Batch 5:  Validation Loss= 0.843688, Validation Accuracy= 0.69960\n",
      "Epoch 77, CIFAR-10 Batch 1:  Validation Loss= 0.832363, Validation Accuracy= 0.71020\n",
      "Epoch 77, CIFAR-10 Batch 2:  Validation Loss= 0.840735, Validation Accuracy= 0.70660\n",
      "Epoch 77, CIFAR-10 Batch 3:  Validation Loss= 0.845960, Validation Accuracy= 0.70260\n",
      "Epoch 77, CIFAR-10 Batch 4:  Validation Loss= 0.850755, Validation Accuracy= 0.70000\n",
      "Epoch 77, CIFAR-10 Batch 5:  Validation Loss= 0.862447, Validation Accuracy= 0.69340\n",
      "Epoch 78, CIFAR-10 Batch 1:  Validation Loss= 0.831007, Validation Accuracy= 0.71120\n",
      "Epoch 78, CIFAR-10 Batch 2:  Validation Loss= 0.854172, Validation Accuracy= 0.70080\n",
      "Epoch 78, CIFAR-10 Batch 3:  Validation Loss= 0.853544, Validation Accuracy= 0.70040\n",
      "Epoch 78, CIFAR-10 Batch 4:  Validation Loss= 0.857898, Validation Accuracy= 0.69840\n",
      "Epoch 78, CIFAR-10 Batch 5:  Validation Loss= 0.852965, Validation Accuracy= 0.69780\n",
      "Epoch 79, CIFAR-10 Batch 1:  Validation Loss= 0.827208, Validation Accuracy= 0.70680\n",
      "Epoch 79, CIFAR-10 Batch 2:  Validation Loss= 0.866441, Validation Accuracy= 0.69580\n",
      "Epoch 79, CIFAR-10 Batch 3:  Validation Loss= 0.845088, Validation Accuracy= 0.70060\n",
      "Epoch 79, CIFAR-10 Batch 4:  Validation Loss= 0.842850, Validation Accuracy= 0.70140\n",
      "Epoch 79, CIFAR-10 Batch 5:  Validation Loss= 0.835584, Validation Accuracy= 0.70960\n",
      "Epoch 80, CIFAR-10 Batch 1:  Validation Loss= 0.814109, Validation Accuracy= 0.71300\n",
      "Epoch 80, CIFAR-10 Batch 2:  Validation Loss= 0.820143, Validation Accuracy= 0.71440\n",
      "Epoch 80, CIFAR-10 Batch 3:  Validation Loss= 0.841717, Validation Accuracy= 0.70200\n",
      "Epoch 80, CIFAR-10 Batch 4:  Validation Loss= 0.836773, Validation Accuracy= 0.70640\n",
      "Epoch 80, CIFAR-10 Batch 5:  Validation Loss= 0.834440, Validation Accuracy= 0.70680\n",
      "Epoch 81, CIFAR-10 Batch 1:  Validation Loss= 0.825583, Validation Accuracy= 0.71140\n",
      "Epoch 81, CIFAR-10 Batch 2:  Validation Loss= 0.816458, Validation Accuracy= 0.71100\n",
      "Epoch 81, CIFAR-10 Batch 3:  Validation Loss= 0.853711, Validation Accuracy= 0.69740\n",
      "Epoch 81, CIFAR-10 Batch 4:  Validation Loss= 0.835232, Validation Accuracy= 0.70520\n",
      "Epoch 81, CIFAR-10 Batch 5:  Validation Loss= 0.823654, Validation Accuracy= 0.71420\n",
      "Epoch 82, CIFAR-10 Batch 1:  Validation Loss= 0.815413, Validation Accuracy= 0.71660\n",
      "Epoch 82, CIFAR-10 Batch 2:  Validation Loss= 0.815184, Validation Accuracy= 0.71500\n",
      "Epoch 82, CIFAR-10 Batch 3:  Validation Loss= 0.815942, Validation Accuracy= 0.71240\n",
      "Epoch 82, CIFAR-10 Batch 4:  Validation Loss= 0.823124, Validation Accuracy= 0.70980\n",
      "Epoch 82, CIFAR-10 Batch 5:  Validation Loss= 0.827566, Validation Accuracy= 0.71260\n",
      "Epoch 83, CIFAR-10 Batch 1:  Validation Loss= 0.807884, Validation Accuracy= 0.71600\n",
      "Epoch 83, CIFAR-10 Batch 2:  Validation Loss= 0.813815, Validation Accuracy= 0.71300\n",
      "Epoch 83, CIFAR-10 Batch 3:  Validation Loss= 0.824947, Validation Accuracy= 0.70940\n",
      "Epoch 83, CIFAR-10 Batch 4:  Validation Loss= 0.834672, Validation Accuracy= 0.70680\n",
      "Epoch 83, CIFAR-10 Batch 5:  Validation Loss= 0.811160, Validation Accuracy= 0.71520\n",
      "Epoch 84, CIFAR-10 Batch 1:  Validation Loss= 0.816328, Validation Accuracy= 0.71540\n",
      "Epoch 84, CIFAR-10 Batch 2:  Validation Loss= 0.816174, Validation Accuracy= 0.71080\n",
      "Epoch 84, CIFAR-10 Batch 3:  Validation Loss= 0.816016, Validation Accuracy= 0.71420\n",
      "Epoch 84, CIFAR-10 Batch 4:  Validation Loss= 0.825935, Validation Accuracy= 0.70860\n",
      "Epoch 84, CIFAR-10 Batch 5:  Validation Loss= 0.811212, Validation Accuracy= 0.71740\n",
      "Epoch 85, CIFAR-10 Batch 1:  Validation Loss= 0.808598, Validation Accuracy= 0.71560\n",
      "Epoch 85, CIFAR-10 Batch 2:  Validation Loss= 0.802271, Validation Accuracy= 0.71980\n",
      "Epoch 85, CIFAR-10 Batch 3:  Validation Loss= 0.805254, Validation Accuracy= 0.71680\n",
      "Epoch 85, CIFAR-10 Batch 4:  Validation Loss= 0.841908, Validation Accuracy= 0.70660\n",
      "Epoch 85, CIFAR-10 Batch 5:  Validation Loss= 0.807557, Validation Accuracy= 0.71640\n",
      "Epoch 86, CIFAR-10 Batch 1:  Validation Loss= 0.807260, Validation Accuracy= 0.71260\n",
      "Epoch 86, CIFAR-10 Batch 2:  Validation Loss= 0.830609, Validation Accuracy= 0.70320\n",
      "Epoch 86, CIFAR-10 Batch 3:  Validation Loss= 0.836219, Validation Accuracy= 0.70320\n",
      "Epoch 86, CIFAR-10 Batch 4:  Validation Loss= 0.834569, Validation Accuracy= 0.70520\n",
      "Epoch 86, CIFAR-10 Batch 5:  Validation Loss= 0.819970, Validation Accuracy= 0.71000\n",
      "Epoch 87, CIFAR-10 Batch 1:  Validation Loss= 0.792682, Validation Accuracy= 0.72000\n",
      "Epoch 87, CIFAR-10 Batch 2:  Validation Loss= 0.814810, Validation Accuracy= 0.71640\n",
      "Epoch 87, CIFAR-10 Batch 3:  Validation Loss= 0.825906, Validation Accuracy= 0.70500\n",
      "Epoch 87, CIFAR-10 Batch 4:  Validation Loss= 0.837699, Validation Accuracy= 0.70720\n",
      "Epoch 87, CIFAR-10 Batch 5:  Validation Loss= 0.820068, Validation Accuracy= 0.71040\n",
      "Epoch 88, CIFAR-10 Batch 1:  Validation Loss= 0.783038, Validation Accuracy= 0.72600\n",
      "Epoch 88, CIFAR-10 Batch 2:  Validation Loss= 0.815586, Validation Accuracy= 0.71420\n",
      "Epoch 88, CIFAR-10 Batch 3:  Validation Loss= 0.808206, Validation Accuracy= 0.71860\n",
      "Epoch 88, CIFAR-10 Batch 4:  Validation Loss= 0.822101, Validation Accuracy= 0.71440\n",
      "Epoch 88, CIFAR-10 Batch 5:  Validation Loss= 0.832580, Validation Accuracy= 0.70680\n",
      "Epoch 89, CIFAR-10 Batch 1:  Validation Loss= 0.818898, Validation Accuracy= 0.71440\n",
      "Epoch 89, CIFAR-10 Batch 2:  Validation Loss= 0.808239, Validation Accuracy= 0.71860\n",
      "Epoch 89, CIFAR-10 Batch 3:  Validation Loss= 0.822314, Validation Accuracy= 0.71380\n",
      "Epoch 89, CIFAR-10 Batch 4:  Validation Loss= 0.853425, Validation Accuracy= 0.70400\n",
      "Epoch 89, CIFAR-10 Batch 5:  Validation Loss= 0.826743, Validation Accuracy= 0.71100\n",
      "Epoch 90, CIFAR-10 Batch 1:  Validation Loss= 0.808349, Validation Accuracy= 0.71780\n",
      "Epoch 90, CIFAR-10 Batch 2:  Validation Loss= 0.829899, Validation Accuracy= 0.70260\n",
      "Epoch 90, CIFAR-10 Batch 3:  Validation Loss= 0.845324, Validation Accuracy= 0.70540\n",
      "Epoch 90, CIFAR-10 Batch 4:  Validation Loss= 0.857623, Validation Accuracy= 0.70160\n",
      "Epoch 90, CIFAR-10 Batch 5:  Validation Loss= 0.814822, Validation Accuracy= 0.71340\n",
      "Epoch 91, CIFAR-10 Batch 1:  Validation Loss= 0.821691, Validation Accuracy= 0.71420\n",
      "Epoch 91, CIFAR-10 Batch 2:  Validation Loss= 0.806510, Validation Accuracy= 0.71500\n",
      "Epoch 91, CIFAR-10 Batch 3:  Validation Loss= 0.809516, Validation Accuracy= 0.71960\n",
      "Epoch 91, CIFAR-10 Batch 4:  Validation Loss= 0.821867, Validation Accuracy= 0.71240\n",
      "Epoch 91, CIFAR-10 Batch 5:  Validation Loss= 0.782902, Validation Accuracy= 0.72720\n",
      "Epoch 92, CIFAR-10 Batch 1:  Validation Loss= 0.788391, Validation Accuracy= 0.72360\n",
      "Epoch 92, CIFAR-10 Batch 2:  Validation Loss= 0.805421, Validation Accuracy= 0.72140\n",
      "Epoch 92, CIFAR-10 Batch 3:  Validation Loss= 0.821567, Validation Accuracy= 0.71240\n",
      "Epoch 92, CIFAR-10 Batch 4:  Validation Loss= 0.844421, Validation Accuracy= 0.70600\n",
      "Epoch 92, CIFAR-10 Batch 5:  Validation Loss= 0.802455, Validation Accuracy= 0.71740\n",
      "Epoch 93, CIFAR-10 Batch 1:  Validation Loss= 0.807053, Validation Accuracy= 0.71420\n",
      "Epoch 93, CIFAR-10 Batch 2:  Validation Loss= 0.839255, Validation Accuracy= 0.70240\n",
      "Epoch 93, CIFAR-10 Batch 3:  Validation Loss= 0.816481, Validation Accuracy= 0.71560\n",
      "Epoch 93, CIFAR-10 Batch 4:  Validation Loss= 0.836004, Validation Accuracy= 0.70500\n",
      "Epoch 93, CIFAR-10 Batch 5:  Validation Loss= 0.797980, Validation Accuracy= 0.72680\n",
      "Epoch 94, CIFAR-10 Batch 1:  Validation Loss= 0.785817, Validation Accuracy= 0.72020\n",
      "Epoch 94, CIFAR-10 Batch 2:  Validation Loss= 0.786963, Validation Accuracy= 0.72600\n",
      "Epoch 94, CIFAR-10 Batch 3:  Validation Loss= 0.806699, Validation Accuracy= 0.71860\n",
      "Epoch 94, CIFAR-10 Batch 4:  Validation Loss= 0.805147, Validation Accuracy= 0.72000\n",
      "Epoch 94, CIFAR-10 Batch 5:  Validation Loss= 0.793698, Validation Accuracy= 0.72020\n",
      "Epoch 95, CIFAR-10 Batch 1:  Validation Loss= 0.789967, Validation Accuracy= 0.72460\n",
      "Epoch 95, CIFAR-10 Batch 2:  Validation Loss= 0.811069, Validation Accuracy= 0.71000\n",
      "Epoch 95, CIFAR-10 Batch 3:  Validation Loss= 0.810549, Validation Accuracy= 0.71520\n",
      "Epoch 95, CIFAR-10 Batch 4:  Validation Loss= 0.802989, Validation Accuracy= 0.72220\n",
      "Epoch 95, CIFAR-10 Batch 5:  Validation Loss= 0.784416, Validation Accuracy= 0.72600\n",
      "Epoch 96, CIFAR-10 Batch 1:  Validation Loss= 0.774327, Validation Accuracy= 0.73240\n",
      "Epoch 96, CIFAR-10 Batch 2:  Validation Loss= 0.805714, Validation Accuracy= 0.71580\n",
      "Epoch 96, CIFAR-10 Batch 3:  Validation Loss= 0.801607, Validation Accuracy= 0.72380\n",
      "Epoch 96, CIFAR-10 Batch 4:  Validation Loss= 0.803189, Validation Accuracy= 0.71480\n",
      "Epoch 96, CIFAR-10 Batch 5:  Validation Loss= 0.806772, Validation Accuracy= 0.72240\n",
      "Epoch 97, CIFAR-10 Batch 1:  Validation Loss= 0.778085, Validation Accuracy= 0.72760\n",
      "Epoch 97, CIFAR-10 Batch 2:  Validation Loss= 0.788637, Validation Accuracy= 0.72360\n",
      "Epoch 97, CIFAR-10 Batch 3:  Validation Loss= 0.789338, Validation Accuracy= 0.72560\n",
      "Epoch 97, CIFAR-10 Batch 4:  Validation Loss= 0.793997, Validation Accuracy= 0.72400\n",
      "Epoch 97, CIFAR-10 Batch 5:  Validation Loss= 0.800363, Validation Accuracy= 0.71680\n",
      "Epoch 98, CIFAR-10 Batch 1:  Validation Loss= 0.782698, Validation Accuracy= 0.72440\n",
      "Epoch 98, CIFAR-10 Batch 2:  Validation Loss= 0.799574, Validation Accuracy= 0.71860\n",
      "Epoch 98, CIFAR-10 Batch 3:  Validation Loss= 0.811142, Validation Accuracy= 0.71200\n",
      "Epoch 98, CIFAR-10 Batch 4:  Validation Loss= 0.791421, Validation Accuracy= 0.72440\n",
      "Epoch 98, CIFAR-10 Batch 5:  Validation Loss= 0.779809, Validation Accuracy= 0.72880\n",
      "Epoch 99, CIFAR-10 Batch 1:  Validation Loss= 0.768434, Validation Accuracy= 0.72980\n",
      "Epoch 99, CIFAR-10 Batch 2:  Validation Loss= 0.794511, Validation Accuracy= 0.72160\n",
      "Epoch 99, CIFAR-10 Batch 3:  Validation Loss= 0.805671, Validation Accuracy= 0.71440\n",
      "Epoch 99, CIFAR-10 Batch 4:  Validation Loss= 0.775875, Validation Accuracy= 0.73040\n",
      "Epoch 99, CIFAR-10 Batch 5:  Validation Loss= 0.780031, Validation Accuracy= 0.72820\n",
      "Epoch 100, CIFAR-10 Batch 1:  Validation Loss= 0.773778, Validation Accuracy= 0.73560\n",
      "Epoch 100, CIFAR-10 Batch 2:  Validation Loss= 0.796991, Validation Accuracy= 0.71920\n",
      "Epoch 100, CIFAR-10 Batch 3:  Validation Loss= 0.784319, Validation Accuracy= 0.72860\n",
      "Epoch 100, CIFAR-10 Batch 4:  Validation Loss= 0.781785, Validation Accuracy= 0.72560\n",
      "Epoch 100, CIFAR-10 Batch 5:  Validation Loss= 0.769062, Validation Accuracy= 0.73100\n"
     ]
    }
   ],
   "source": [
    "\"\"\"\n",
    "DON'T MODIFY ANYTHING IN THIS CELL\n",
    "\"\"\"\n",
    "save_model_path = './image_classification'\n",
    "\n",
    "print('Training...')\n",
    "with tf.Session() as sess:\n",
    "    # Initializing the variables\n",
    "    sess.run(tf.global_variables_initializer())\n",
    "    \n",
    "    # Training cycle\n",
    "    for epoch in range(epochs):\n",
    "        # Loop over all batches\n",
    "        n_batches = 5\n",
    "        for batch_i in range(1, n_batches + 1):\n",
    "            for batch_features, batch_labels in helper.load_preprocess_training_batch(batch_i, batch_size):\n",
    "                train_neural_network(sess, optimizer, keep_probability, batch_features, batch_labels)\n",
    "            print('Epoch {:>2}, CIFAR-10 Batch {}:  '.format(epoch + 1, batch_i), end='')\n",
    "            print_stats(sess, batch_features, batch_labels, cost, accuracy)\n",
    "            \n",
    "    # Save Model\n",
    "    saver = tf.train.Saver()\n",
    "    save_path = saver.save(sess, save_model_path)"
   ]
  },
  {
   "cell_type": "markdown",
   "metadata": {},
   "source": [
    "# Checkpoint\n",
    "The model has been saved to disk.\n",
    "## Test Model\n",
    "Test your model against the test dataset.  This will be your final accuracy. You should have an accuracy greater than 50%. If you don't, keep tweaking the model architecture and parameters."
   ]
  },
  {
   "cell_type": "code",
   "execution_count": 21,
   "metadata": {
    "collapsed": false
   },
   "outputs": [
    {
     "name": "stdout",
     "output_type": "stream",
     "text": [
      "Testing Accuracy: 0.7290324330329895\n",
      "\n"
     ]
    },
    {
     "data": {
      "image/png": "[encoded data removed]",
      "text/plain": [
       "<matplotlib.figure.Figure at 0x7fdf6ea992e8>"
      ]
     },
     "metadata": {
      "image/png": {
       "height": 319,
       "width": 355
      }
     },
     "output_type": "display_data"
    }
   ],
   "source": [
    "\"\"\"\n",
    "DON'T MODIFY ANYTHING IN THIS CELL\n",
    "\"\"\"\n",
    "%matplotlib inline\n",
    "%config InlineBackend.figure_format = 'retina'\n",
    "\n",
    "import tensorflow as tf\n",
    "import pickle\n",
    "import helper\n",
    "import random\n",
    "\n",
    "# Set batch size if not already set\n",
    "try:\n",
    "    if batch_size:\n",
    "        pass\n",
    "except NameError:\n",
    "    batch_size = 64\n",
    "\n",
    "save_model_path = './image_classification'\n",
    "n_samples = 4\n",
    "top_n_predictions = 3\n",
    "\n",
    "def test_model():\n",
    "    \"\"\"\n",
    "    Test the saved model against the test dataset\n",
    "    \"\"\"\n",
    "\n",
    "    test_features, test_labels = pickle.load(open('preprocess_training.p', mode='rb'))\n",
    "    loaded_graph = tf.Graph()\n",
    "\n",
    "    with tf.Session(graph=loaded_graph) as sess:\n",
    "        # Load model\n",
    "        loader = tf.train.import_meta_graph(save_model_path + '.meta')\n",
    "        loader.restore(sess, save_model_path)\n",
    "\n",
    "        # Get Tensors from loaded model\n",
    "        loaded_x = loaded_graph.get_tensor_by_name('x:0')\n",
    "        loaded_y = loaded_graph.get_tensor_by_name('y:0')\n",
    "        loaded_keep_prob = loaded_graph.get_tensor_by_name('keep_prob:0')\n",
    "        loaded_logits = loaded_graph.get_tensor_by_name('logits:0')\n",
    "        loaded_acc = loaded_graph.get_tensor_by_name('accuracy:0')\n",
    "        \n",
    "        # Get accuracy in batches for memory limitations\n",
    "        test_batch_acc_total = 0\n",
    "        test_batch_count = 0\n",
    "        \n",
    "        for train_feature_batch, train_label_batch in helper.batch_features_labels(test_features, test_labels, batch_size):\n",
    "            test_batch_acc_total += sess.run(\n",
    "                loaded_acc,\n",
    "                feed_dict={loaded_x: train_feature_batch, loaded_y: train_label_batch, loaded_keep_prob: 1.0})\n",
    "            test_batch_count += 1\n",
    "\n",
    "        print('Testing Accuracy: {}\\n'.format(test_batch_acc_total/test_batch_count))\n",
    "\n",
    "        # Print Random Samples\n",
    "        random_test_features, random_test_labels = tuple(zip(*random.sample(list(zip(test_features, test_labels)), n_samples)))\n",
    "        random_test_predictions = sess.run(\n",
    "            tf.nn.top_k(tf.nn.softmax(loaded_logits), top_n_predictions),\n",
    "            feed_dict={loaded_x: random_test_features, loaded_y: random_test_labels, loaded_keep_prob: 1.0})\n",
    "        helper.display_image_predictions(random_test_features, random_test_labels, random_test_predictions)\n",
    "\n",
    "\n",
    "test_model()"
   ]
  },
  {
   "cell_type": "markdown",
   "metadata": {},
   "source": [
    "## Why 50-70% Accuracy?\n",
    "You might be wondering why you can't get an accuracy any higher. First things first, 50% isn't bad for a simple CNN.  Pure guessing would get you 10% accuracy. However, you might notice people are getting scores [well above 70%](http://rodrigob.github.io/are_we_there_yet/build/classification_datasets_results.html#43494641522d3130).  That's because we haven't taught you all there is to know about neural networks. We still need to cover a few more techniques.\n",
    "## Submitting This Project\n",
    "When submitting this project, make sure to run all the cells before saving the notebook.  Save the notebook file as \"dlnd_image_classification.ipynb\" and save it as a HTML file under \"File\" -> \"Download as\".  Include the \"helper.py\" and \"problem_unittests.py\" files in your submission."
   ]
  }
 ],
 "metadata": {
  "kernelspec": {
   "display_name": "Python 3",
   "language": "python",
   "name": "python3"
  },
  "language_info": {
   "codemirror_mode": {
    "name": "ipython",
    "version": 3
   },
   "file_extension": ".py",
   "mimetype": "text/x-python",
   "name": "python",
   "nbconvert_exporter": "python",
   "pygments_lexer": "ipython3",
   "version": "3.5.3"
  }
 },
 "nbformat": 4,
 "nbformat_minor": 0
}
